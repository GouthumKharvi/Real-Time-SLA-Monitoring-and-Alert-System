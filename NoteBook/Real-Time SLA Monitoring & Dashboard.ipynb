{
 "cells": [
  {
   "cell_type": "markdown",
   "id": "d7654871-35df-4482-840f-281909b31d52",
   "metadata": {},
   "source": [
    "# Creating the Folder"
   ]
  },
  {
   "cell_type": "code",
   "execution_count": 170,
   "id": "7540eee0-1254-4f19-9710-09939ce87e2c",
   "metadata": {},
   "outputs": [
    {
     "name": "stdout",
     "output_type": "stream",
     "text": [
      "Created or already exists: C:\\Users\\Gouthum\\Downloads\\DE\\data\n",
      "Created or already exists: C:\\Users\\Gouthum\\Downloads\\DE\\utils\n"
     ]
    }
   ],
   "source": [
    "import os\n",
    "\n",
    "\n",
    "project_path = r\"C:\\Users\\Gouthum\\Downloads\\DE\"\n",
    "\n",
    "\n",
    "folders_to_create = ['data', 'utils']\n",
    "\n",
    "# Create each folder if it doesn't exist\n",
    "for folder in folders_to_create:\n",
    "    folder_path = os.path.join(project_path, folder)\n",
    "    os.makedirs(folder_path, exist_ok=True)\n",
    "    print(f\"Created or already exists: {folder_path}\")"
   ]
  },
  {
   "cell_type": "code",
   "execution_count": 172,
   "id": "8c7f700f-791f-4891-92a7-ef7698ff7c0e",
   "metadata": {},
   "outputs": [
    {
     "name": "stdout",
     "output_type": "stream",
     "text": [
      "Moved and renamed to: C:\\Users\\Gouthum\\Downloads\\DE\\data\\sample_sla_data.csv\n"
     ]
    }
   ],
   "source": [
    "import shutil\n",
    "import os\n",
    "\n",
    "# Paths\n",
    "project_path = r\"C:\\Users\\Gouthum\\Downloads\\DE\"\n",
    "source_file = os.path.join(project_path, \"platform_logs.csv\")\n",
    "destination_file = os.path.join(project_path, \"data\", \"sample_sla_data.csv\")\n",
    "\n",
    "# Move and rename\n",
    "shutil.move(source_file, destination_file)\n",
    "print(f\"Moved and renamed to: {destination_file}\")"
   ]
  },
  {
   "cell_type": "markdown",
   "id": "1f1a236a-63e3-4a60-b80d-6a7310dad673",
   "metadata": {},
   "source": [
    "# Gerating 1000 Random Records"
   ]
  },
  {
   "cell_type": "code",
   "execution_count": 1,
   "id": "dc2b1bed-0d5a-4363-a5c9-518938eda2ca",
   "metadata": {},
   "outputs": [
    {
     "name": "stdout",
     "output_type": "stream",
     "text": [
      "Successfully generated C:\\Users\\Gouthum\\Downloads\\DE\\platform_logs.csv with 10000 records.\n"
     ]
    }
   ],
   "source": [
    "import pandas as pd\n",
    "import numpy as np\n",
    "from datetime import datetime, timedelta\n",
    "import random\n",
    "import os\n",
    "\n",
    "def simulate_logs(num_logs=10000, save_path=None):\n",
    "    services = ['auth-service', 'data-service', 'payment-service', 'notification-service']\n",
    "    statuses = ['success', 'failure']\n",
    "    base_time = datetime.now() - timedelta(days=7)  # logs for past week\n",
    "    \n",
    "    logs = []\n",
    "    for _ in range(num_logs):\n",
    "        timestamp = base_time + timedelta(seconds=random.randint(0, 7*24*60*60))\n",
    "        service = random.choice(services)\n",
    "        status = random.choices(statuses, weights=[0.9, 0.1])[0]\n",
    "        response_time = np.random.normal(loc=300, scale=100)  # avg 300ms\n",
    "        response_time = max(50, response_time)\n",
    "        \n",
    "        logs.append({\n",
    "            'timestamp': timestamp.strftime('%Y-%m-%d %H:%M:%S'),\n",
    "            'service_name': service,\n",
    "            'status': status,\n",
    "            'response_time_ms': int(response_time)\n",
    "        })\n",
    "    \n",
    "    df = pd.DataFrame(logs)\n",
    "    if save_path is None:\n",
    "        save_path = os.path.join(os.getcwd(), 'platform_logs.csv')\n",
    "    df.to_csv(save_path, index=False)\n",
    "    print(f'Successfully generated {save_path} with {num_logs} records.')\n",
    "\n",
    "# Run this - it will save inside My  DE folder\n",
    "simulate_logs()"
   ]
  },
  {
   "cell_type": "markdown",
   "id": "3d55b3a1-2fe7-44ab-82ac-3d99598e5bfe",
   "metadata": {},
   "source": [
    "#  sla_monitor.py"
   ]
  },
  {
   "cell_type": "code",
   "execution_count": 178,
   "id": "df7d6636-634f-44b0-8b3d-21a74836e050",
   "metadata": {},
   "outputs": [
    {
     "name": "stdout",
     "output_type": "stream",
     "text": [
      "Created: C:\\Users\\Gouthum\\Downloads\\DE\\sla_monitor.py\n"
     ]
    }
   ],
   "source": [
    "sla_monitor_path = r'C:\\Users\\Gouthum\\Downloads\\DE\\sla_monitor.py'\n",
    "\n",
    "sla_code = \"\"\"\n",
    "import pandas as pd\n",
    "\n",
    "# Define SLA thresholds\n",
    "FAILURE_RATE_THRESHOLD = 0.05  # 5%\n",
    "RESPONSE_TIME_THRESHOLD_MS = 2000  # 2 seconds\n",
    "RESPONSE_VIOLATION_RATE_THRESHOLD = 0.1  # 10%\n",
    "\n",
    "def run_sla_check(file_path='data/platform_logs.csv'):\n",
    "    try:\n",
    "        df = pd.read_csv(file_path)\n",
    "    except FileNotFoundError:\n",
    "        print(f\"Input file not found at: {file_path}\")\n",
    "        return []\n",
    "\n",
    "    violations = []\n",
    "\n",
    "    for _, row in df.iterrows():\n",
    "        if (\n",
    "            row['failure_rate'] > FAILURE_RATE_THRESHOLD or\n",
    "            row['avg_response_time_ms'] > RESPONSE_TIME_THRESHOLD_MS or\n",
    "            row['response_violation_rate'] > RESPONSE_VIOLATION_RATE_THRESHOLD\n",
    "        ):\n",
    "            violations.append(row)\n",
    "\n",
    "    if violations:\n",
    "        violation_df = pd.DataFrame(violations)\n",
    "        violation_df.to_csv('sla_violations_report.csv', index=False)\n",
    "        print(\"SLA violations found and report saved.\")\n",
    "        return violation_df\n",
    "    else:\n",
    "        print(\"No SLA violations detected.\")\n",
    "        return pd.DataFrame()\n",
    "\"\"\"\n",
    "\n",
    "# Write the file\n",
    "with open(sla_monitor_path, 'w') as f:\n",
    "    f.write(sla_code)\n",
    "\n",
    "print(f\"Created: {sla_monitor_path}\")\n"
   ]
  },
  {
   "cell_type": "markdown",
   "id": "1d2ea406-c21c-4672-85a6-a815f5355f61",
   "metadata": {},
   "source": [
    "# Step 2: Analyze logs and check SLA violations\n",
    "\n",
    "Loaded the CSV logs\n",
    "\n",
    "Calculate key metrics per service (like average response time, failure rate)\n",
    "\n",
    "Check SLA violations based on thresholds (e.g., response time > 500ms or failure rate > 5%)"
   ]
  },
  {
   "cell_type": "code",
   "execution_count": 6,
   "id": "ef0f750e-9dfa-448b-ac61-ba21fe86ff41",
   "metadata": {},
   "outputs": [
    {
     "name": "stdout",
     "output_type": "stream",
     "text": [
      "SLA Violations Report:\n"
     ]
    },
    {
     "data": {
      "text/html": [
       "<style type=\"text/css\">\n",
       "</style>\n",
       "<table id=\"T_fdfb9\">\n",
       "  <caption>SLA Violations by Service</caption>\n",
       "  <thead>\n",
       "    <tr>\n",
       "      <th class=\"blank level0\" >&nbsp;</th>\n",
       "      <th id=\"T_fdfb9_level0_col0\" class=\"col_heading level0 col0\" >Service Name</th>\n",
       "      <th id=\"T_fdfb9_level0_col1\" class=\"col_heading level0 col1\" >Failure Rate (%)</th>\n",
       "      <th id=\"T_fdfb9_level0_col2\" class=\"col_heading level0 col2\" >Average Response Time (ms)</th>\n",
       "      <th id=\"T_fdfb9_level0_col3\" class=\"col_heading level0 col3\" >Response Time Violation Rate (%)</th>\n",
       "    </tr>\n",
       "  </thead>\n",
       "  <tbody>\n",
       "    <tr>\n",
       "      <th id=\"T_fdfb9_level0_row0\" class=\"row_heading level0 row0\" >1</th>\n",
       "      <td id=\"T_fdfb9_row0_col0\" class=\"data row0 col0\" >data-service</td>\n",
       "      <td id=\"T_fdfb9_row0_col1\" class=\"data row0 col1\" >10.66%</td>\n",
       "      <td id=\"T_fdfb9_row0_col2\" class=\"data row0 col2\" >300.20 ms</td>\n",
       "      <td id=\"T_fdfb9_row0_col3\" class=\"data row0 col3\" >2.26%</td>\n",
       "    </tr>\n",
       "    <tr>\n",
       "      <th id=\"T_fdfb9_level0_row1\" class=\"row_heading level0 row1\" >0</th>\n",
       "      <td id=\"T_fdfb9_row1_col0\" class=\"data row1 col0\" >auth-service</td>\n",
       "      <td id=\"T_fdfb9_row1_col1\" class=\"data row1 col1\" >10.22%</td>\n",
       "      <td id=\"T_fdfb9_row1_col2\" class=\"data row1 col2\" >297.34 ms</td>\n",
       "      <td id=\"T_fdfb9_row1_col3\" class=\"data row1 col3\" >1.83%</td>\n",
       "    </tr>\n",
       "    <tr>\n",
       "      <th id=\"T_fdfb9_level0_row2\" class=\"row_heading level0 row2\" >2</th>\n",
       "      <td id=\"T_fdfb9_row2_col0\" class=\"data row2 col0\" >notification-service</td>\n",
       "      <td id=\"T_fdfb9_row2_col1\" class=\"data row2 col1\" >10.16%</td>\n",
       "      <td id=\"T_fdfb9_row2_col2\" class=\"data row2 col2\" >298.39 ms</td>\n",
       "      <td id=\"T_fdfb9_row2_col3\" class=\"data row2 col3\" >2.31%</td>\n",
       "    </tr>\n",
       "    <tr>\n",
       "      <th id=\"T_fdfb9_level0_row3\" class=\"row_heading level0 row3\" >3</th>\n",
       "      <td id=\"T_fdfb9_row3_col0\" class=\"data row3 col0\" >payment-service</td>\n",
       "      <td id=\"T_fdfb9_row3_col1\" class=\"data row3 col1\" >9.84%</td>\n",
       "      <td id=\"T_fdfb9_row3_col2\" class=\"data row3 col2\" >298.59 ms</td>\n",
       "      <td id=\"T_fdfb9_row3_col3\" class=\"data row3 col3\" >1.90%</td>\n",
       "    </tr>\n",
       "  </tbody>\n",
       "</table>\n"
      ],
      "text/plain": [
       "<pandas.io.formats.style.Styler at 0x23d44ad7d70>"
      ]
     },
     "metadata": {},
     "output_type": "display_data"
    }
   ],
   "source": [
    "import pandas as pd\n",
    "\n",
    "# Load the logs CSV\n",
    "logs_path = 'platform_logs.csv'\n",
    "logs_df = pd.read_csv(logs_path)\n",
    "\n",
    "# Convert timestamp column to datetime\n",
    "logs_df['timestamp'] = pd.to_datetime(logs_df['timestamp'])\n",
    "\n",
    "# SLA thresholds\n",
    "MAX_RESPONSE_TIME_MS = 500\n",
    "MAX_FAILURE_RATE = 0.05\n",
    "\n",
    "# Group by service_name\n",
    "service_groups = logs_df.groupby('service_name')\n",
    "\n",
    "sla_violations = []\n",
    "\n",
    "for service, group in service_groups:\n",
    "    total_requests = len(group)\n",
    "    failures = group[group['status'] == 'failure']\n",
    "    failure_rate = len(failures) / total_requests\n",
    "    \n",
    "    avg_response_time = group['response_time_ms'].mean()\n",
    "    \n",
    "    response_time_violations = group[group['response_time_ms'] > MAX_RESPONSE_TIME_MS]\n",
    "    response_violation_rate = len(response_time_violations) / total_requests\n",
    "    \n",
    "    if failure_rate > MAX_FAILURE_RATE or response_violation_rate > 0.0:\n",
    "        sla_violations.append({\n",
    "            'Service Name': service,\n",
    "            'Failure Rate (%)': round(failure_rate * 100, 2),\n",
    "            'Average Response Time (ms)': round(avg_response_time, 2),\n",
    "            'Response Time Violation Rate (%)': round(response_violation_rate * 100, 2)\n",
    "        })\n",
    "\n",
    "# Create DataFrame for SLA violations\n",
    "if sla_violations:\n",
    "    violation_df = pd.DataFrame(sla_violations)\n",
    "    violation_df = violation_df.sort_values(by='Failure Rate (%)', ascending=False)\n",
    "    print(\"SLA Violations Report:\")\n",
    "    display(violation_df.style.set_caption(\"SLA Violations by Service\").format({\n",
    "        'Failure Rate (%)': '{:.2f}%',\n",
    "        'Average Response Time (ms)': '{:.2f} ms',\n",
    "        'Response Time Violation Rate (%)': '{:.2f}%'\n",
    "    }))\n",
    "else:\n",
    "    print(\"No SLA violations detected. All services are within thresholds.\")"
   ]
  },
  {
   "cell_type": "code",
   "execution_count": 8,
   "id": "7cc2326a-8dd0-4226-a602-7ed8c244e738",
   "metadata": {},
   "outputs": [
    {
     "name": "stdout",
     "output_type": "stream",
     "text": [
      "             timestamp          service_name   status  response_time_ms\n",
      "0  2025-06-05 07:56:15  notification-service  success               446\n",
      "1  2025-06-03 09:36:40          data-service  success               261\n",
      "2  2025-06-01 23:28:57          auth-service  success               235\n",
      "3  2025-06-01 10:14:24          auth-service  success               264\n",
      "4  2025-06-01 00:13:35          data-service  success               475\n",
      "SLA Violations Detected:\n",
      "           service_name  failure_rate  avg_response_time_ms  \\\n",
      "0          auth-service        0.1022                297.34   \n",
      "1          data-service        0.1066                300.20   \n",
      "2  notification-service        0.1016                298.39   \n",
      "3       payment-service        0.0984                298.59   \n",
      "\n",
      "   response_violation_rate  \n",
      "0                   0.0183  \n",
      "1                   0.0226  \n",
      "2                   0.0231  \n",
      "3                   0.0190  \n"
     ]
    }
   ],
   "source": [
    "import pandas as pd\n",
    "\n",
    "# Load the logs CSV from the folder\n",
    "logs_path = 'platform_logs.csv'  # Since you're running in DE folder, this should work\n",
    "\n",
    "# Read the logs into DataFrame\n",
    "logs_df = pd.read_csv(logs_path)\n",
    "\n",
    "# Quick peek at data\n",
    "print(logs_df.head())\n",
    "\n",
    "# Convert timestamp column to datetime type\n",
    "logs_df['timestamp'] = pd.to_datetime(logs_df['timestamp'])\n",
    "\n",
    "# SLA thresholds\n",
    "MAX_RESPONSE_TIME_MS = 500  # max allowed response time in ms\n",
    "MAX_FAILURE_RATE = 0.05      # max allowed failure rate (5%)\n",
    "\n",
    "# Group logs by service_name\n",
    "service_groups = logs_df.groupby('service_name')\n",
    "\n",
    "sla_violations = []\n",
    "\n",
    "for service, group in service_groups:\n",
    "    total_requests = len(group)\n",
    "    failures = group[group['status'] == 'failure']\n",
    "    failure_rate = len(failures) / total_requests\n",
    "    \n",
    "    avg_response_time = group['response_time_ms'].mean()\n",
    "    \n",
    "    response_time_violations = group[group['response_time_ms'] > MAX_RESPONSE_TIME_MS]\n",
    "    response_violation_rate = len(response_time_violations) / total_requests\n",
    "    \n",
    "    # Check if SLA violated\n",
    "    if failure_rate > MAX_FAILURE_RATE or response_violation_rate > 0.0:\n",
    "        sla_violations.append({\n",
    "            'service_name': service,\n",
    "            'failure_rate': round(failure_rate, 4),\n",
    "            'avg_response_time_ms': round(avg_response_time, 2),\n",
    "            'response_violation_rate': round(response_violation_rate, 4)\n",
    "        })\n",
    "\n",
    "# Show SLA violation report\n",
    "if sla_violations:\n",
    "    print(\"SLA Violations Detected:\")\n",
    "    violation_df = pd.DataFrame(sla_violations)\n",
    "    print(violation_df)\n",
    "else:\n",
    "    print(\"No SLA violations detected. All services are within thresholds.\")\n"
   ]
  },
  {
   "cell_type": "markdown",
   "id": "40609aee-cf05-4f43-b451-e97ae30c46ac",
   "metadata": {},
   "source": [
    "# 1. Automate SLA Monitoring with Scheduling\n",
    "Right now, My script runs once. In real-world production, we  want this to run periodically (e.g., every 5 minutes or hourly) to keep monitoring continuously.\n",
    "\n",
    "How? Use Python scheduling libraries:\n",
    "\n",
    "schedule (simple and easy)\n",
    "\n",
    "APScheduler (more advanced, supports cron jobs, persistent jobs)\n",
    "\n",
    "Example with schedule:"
   ]
  },
  {
   "cell_type": "code",
   "execution_count": 13,
   "id": "724fbcaf-658c-4ce4-ab81-14289464df59",
   "metadata": {},
   "outputs": [
    {
     "name": "stdout",
     "output_type": "stream",
     "text": [
      "Defaulting to user installation because normal site-packages is not writeable\n",
      "Collecting schedule\n",
      "  Downloading schedule-1.2.2-py3-none-any.whl.metadata (3.8 kB)\n",
      "Downloading schedule-1.2.2-py3-none-any.whl (12 kB)\n",
      "Installing collected packages: schedule\n",
      "Successfully installed schedule-1.2.2\n"
     ]
    }
   ],
   "source": [
    "!pip install schedule"
   ]
  },
  {
   "cell_type": "code",
   "execution_count": 15,
   "id": "2da174a4-7892-41a8-9ac0-04eb92094a87",
   "metadata": {},
   "outputs": [
    {
     "name": "stdout",
     "output_type": "stream",
     "text": [
      "Defaulting to user installation because normal site-packages is not writeable\n",
      "Requirement already satisfied: schedule in c:\\users\\gouthum\\appdata\\roaming\\python\\python312\\site-packages (1.2.2)\n",
      "Note: you may need to restart the kernel to use updated packages.\n"
     ]
    }
   ],
   "source": [
    "pip install schedule"
   ]
  },
  {
   "cell_type": "markdown",
   "id": "d67682c5-35a8-41dd-924f-d48243ea6d0b",
   "metadata": {},
   "source": [
    "## monitor_sla.py"
   ]
  },
  {
   "cell_type": "code",
   "execution_count": 181,
   "id": "d948db63-fc1e-423b-8dd6-cdf85ef3e678",
   "metadata": {},
   "outputs": [
    {
     "name": "stdout",
     "output_type": "stream",
     "text": [
      "Created: C:\\Users\\Gouthum\\Downloads\\DE\\monitor_sla.py\n"
     ]
    }
   ],
   "source": [
    "monitor_sla_path = r'C:\\Users\\Gouthum\\Downloads\\DE\\monitor_sla.py'\n",
    "\n",
    "monitor_code = \"\"\"\n",
    "import schedule\n",
    "import time\n",
    "from sla_monitor import run_sla_check\n",
    "\n",
    "def job():\n",
    "    print(\"Running SLA check...\")\n",
    "    run_sla_check()\n",
    "\n",
    "# Run every 10 seconds (change to .hourly or .daily as needed)\n",
    "schedule.every(10).seconds.do(job)\n",
    "\n",
    "print(\"Starting SLA monitoring... Press Ctrl+C to stop.\")\n",
    "while True:\n",
    "    schedule.run_pending()\n",
    "    time.sleep(1)\n",
    "\"\"\"\n",
    "\n",
    "# Write the script\n",
    "with open(monitor_sla_path, 'w') as f:\n",
    "    f.write(monitor_code)\n",
    "\n",
    "print(f\"Created: {monitor_sla_path}\")\n"
   ]
  },
  {
   "cell_type": "code",
   "execution_count": 19,
   "id": "2d4b0e40-39b5-402f-a20b-5fc901072c02",
   "metadata": {},
   "outputs": [
    {
     "name": "stdout",
     "output_type": "stream",
     "text": [
      "Starting SLA monitoring... Press Ctrl+C to stop.\n",
      "Monitoring stopped.\n"
     ]
    }
   ],
   "source": [
    "import schedule\n",
    "import time\n",
    "\n",
    "def run_sla_check():\n",
    "    print(\"Running SLA check...\")\n",
    "    # Your SLA checking code here\n",
    "\n",
    "schedule.every(5).minutes.do(run_sla_check)\n",
    "\n",
    "print(\"Starting SLA monitoring... Press Ctrl+C to stop.\")\n",
    "\n",
    "try:\n",
    "    while True:\n",
    "        schedule.run_pending()\n",
    "        time.sleep(1)\n",
    "except KeyboardInterrupt:\n",
    "    print(\"Monitoring stopped.\")"
   ]
  },
  {
   "cell_type": "code",
   "execution_count": 20,
   "id": "5def6612-2b7b-46f3-9e2d-4e6f6299a732",
   "metadata": {},
   "outputs": [
    {
     "data": {
      "text/plain": [
       "Every 10 seconds do run_sla_check() (last run: [never], next run: 2025-06-07 19:18:25)"
      ]
     },
     "execution_count": 20,
     "metadata": {},
     "output_type": "execute_result"
    }
   ],
   "source": [
    "schedule.every(10).seconds.do(run_sla_check)"
   ]
  },
  {
   "cell_type": "markdown",
   "id": "9372cf5d-234d-4a33-bfa8-5413b65ef2d2",
   "metadata": {},
   "source": [
    "# Step 1: Inserted my  SLA check code inside the scheduled function\n",
    "Wraped my SLA checking code into a function (e.g., run_sla_check()), so the scheduler calls it every interval."
   ]
  },
  {
   "cell_type": "code",
   "execution_count": 26,
   "id": "a9bdb72a-e8d6-4343-bcdc-b307c34e4cd9",
   "metadata": {},
   "outputs": [],
   "source": [
    "import pandas as pd\n",
    "\n",
    "MAX_RESPONSE_TIME_MS = 500\n",
    "MAX_FAILURE_RATE = 0.05\n",
    "\n",
    "def run_sla_check():\n",
    "    logs_path = 'platform_logs.csv' \n",
    "    \n",
    "    logs_df = pd.read_csv(logs_path)\n",
    "    logs_df['timestamp'] = pd.to_datetime(logs_df['timestamp'])\n",
    "    \n",
    "    service_groups = logs_df.groupby('service_name')\n",
    "    \n",
    "    sla_violations = []\n",
    "    \n",
    "    for service, group in service_groups:\n",
    "        total_requests = len(group)\n",
    "        failures = group[group['status'] == 'failure']\n",
    "        failure_rate = len(failures) / total_requests\n",
    "        \n",
    "        avg_response_time = group['response_time_ms'].mean()\n",
    "        \n",
    "        response_time_violations = group[group['response_time_ms'] > MAX_RESPONSE_TIME_MS]\n",
    "        response_violation_rate = len(response_time_violations) / total_requests\n",
    "        \n",
    "        if failure_rate > MAX_FAILURE_RATE or response_violation_rate > 0.0:\n",
    "            sla_violations.append({\n",
    "                'Service Name': service,\n",
    "                'Failure Rate (%)': round(failure_rate * 100, 2),\n",
    "                'Average Response Time (ms)': round(avg_response_time, 2),\n",
    "                'Response Time Violation Rate (%)': round(response_violation_rate * 100, 2)\n",
    "            })\n",
    "    \n",
    "    if sla_violations:\n",
    "        violation_df = pd.DataFrame(sla_violations)\n",
    "        violation_df = violation_df.sort_values(by='Failure Rate (%)', ascending=False)\n",
    "        print(\"\\nSLA Violations Report:\")\n",
    "        print(violation_df.to_string(index=False))\n",
    "    else:\n",
    "        print(\"\\nNo SLA violations detected. All services are within thresholds.\")"
   ]
  },
  {
   "cell_type": "code",
   "execution_count": 32,
   "id": "10f37bbe-b656-4857-9070-e0d066572bf0",
   "metadata": {},
   "outputs": [
    {
     "name": "stdout",
     "output_type": "stream",
     "text": [
      "\n",
      "SLA Violations Report:\n",
      "        Service Name  Failure Rate (%)  Average Response Time (ms)  Response Time Violation Rate (%)\n",
      "        data-service             10.66                      300.20                              2.26\n",
      "        auth-service             10.22                      297.34                              1.83\n",
      "notification-service             10.16                      298.39                              2.31\n",
      "     payment-service              9.84                      298.59                              1.90\n"
     ]
    }
   ],
   "source": [
    "import pandas as pd\n",
    "\n",
    "MAX_RESPONSE_TIME_MS = 500\n",
    "MAX_FAILURE_RATE = 0.05\n",
    "\n",
    "def run_sla_check():\n",
    "    logs_path = r'C:\\Users\\Gouthum\\Downloads\\DE\\platform_logs.csv'  \n",
    "    \n",
    "    logs_df = pd.read_csv(logs_path)\n",
    "    logs_df['timestamp'] = pd.to_datetime(logs_df['timestamp'])\n",
    "    \n",
    "    service_groups = logs_df.groupby('service_name')\n",
    "    \n",
    "    sla_violations = []\n",
    "    \n",
    "    for service, group in service_groups:\n",
    "        total_requests = len(group)\n",
    "        failures = group[group['status'] == 'failure']\n",
    "        failure_rate = len(failures) / total_requests\n",
    "        \n",
    "        avg_response_time = group['response_time_ms'].mean()\n",
    "        \n",
    "        response_time_violations = group[group['response_time_ms'] > MAX_RESPONSE_TIME_MS]\n",
    "        response_violation_rate = len(response_time_violations) / total_requests\n",
    "        \n",
    "        if failure_rate > MAX_FAILURE_RATE or response_violation_rate > 0.0:\n",
    "            sla_violations.append({\n",
    "                'Service Name': service,\n",
    "                'Failure Rate (%)': round(failure_rate * 100, 2),\n",
    "                'Average Response Time (ms)': round(avg_response_time, 2),\n",
    "                'Response Time Violation Rate (%)': round(response_violation_rate * 100, 2)\n",
    "            })\n",
    "    \n",
    "    if sla_violations:\n",
    "        violation_df = pd.DataFrame(sla_violations)\n",
    "        violation_df = violation_df.sort_values(by='Failure Rate (%)', ascending=False)\n",
    "        print(\"\\nSLA Violations Report:\")\n",
    "        print(violation_df.to_string(index=False))\n",
    "    else:\n",
    "        print(\"\\nNo SLA violations detected. All services are within thresholds.\")\n",
    "\n",
    "# Test run\n",
    "run_sla_check()\n"
   ]
  },
  {
   "cell_type": "markdown",
   "id": "cb36ebb7-cf3d-478d-b5a9-9cd2ec8a5756",
   "metadata": {},
   "source": [
    "# Step 2: Testing My scheduler\n",
    " scheduling script imports this function and calls it periodically:"
   ]
  },
  {
   "cell_type": "code",
   "execution_count": 35,
   "id": "e86c5b3a-c9a9-421f-985f-ffa1106d02c0",
   "metadata": {},
   "outputs": [
    {
     "name": "stdout",
     "output_type": "stream",
     "text": [
      "Starting SLA monitoring... Press Ctrl+C to stop.\n",
      "Running SLA check...\n",
      "Running SLA check...\n",
      "Running SLA check...\n",
      "Running SLA check...\n",
      "Running SLA check...\n",
      "Running SLA check...\n"
     ]
    },
    {
     "ename": "KeyboardInterrupt",
     "evalue": "",
     "output_type": "error",
     "traceback": [
      "\u001b[1;31m---------------------------------------------------------------------------\u001b[0m",
      "\u001b[1;31mKeyboardInterrupt\u001b[0m                         Traceback (most recent call last)",
      "Cell \u001b[1;32mIn[35], line 13\u001b[0m\n\u001b[0;32m     11\u001b[0m \u001b[38;5;28;01mwhile\u001b[39;00m \u001b[38;5;28;01mTrue\u001b[39;00m:\n\u001b[0;32m     12\u001b[0m     schedule\u001b[38;5;241m.\u001b[39mrun_pending()\n\u001b[1;32m---> 13\u001b[0m     time\u001b[38;5;241m.\u001b[39msleep(\u001b[38;5;241m1\u001b[39m)\n",
      "\u001b[1;31mKeyboardInterrupt\u001b[0m: "
     ]
    }
   ],
   "source": [
    "import schedule\n",
    "import time\n",
    "\n",
    "def job():\n",
    "    print(\"Running SLA Check...\")\n",
    "    run_sla_check()\n",
    "\n",
    "schedule.every(5).minutes.do(job)  # or every 10 seconds for quick testing\n",
    "\n",
    "print(\"Starting SLA monitoring... Press Ctrl+C to stop.\")\n",
    "while True:\n",
    "    schedule.run_pending()\n",
    "    time.sleep(1)"
   ]
  },
  {
   "cell_type": "markdown",
   "id": "89ddd71a-8980-40e2-9fe6-835a02c1d93e",
   "metadata": {},
   "source": [
    "# Step 3: Add logging to file (optional but recommended)\n",
    "To keep history, instead of printing, save reports to a file:"
   ]
  },
  {
   "cell_type": "code",
   "execution_count": 39,
   "id": "2d28ae7f-e4c1-4bda-8d20-74a483195250",
   "metadata": {},
   "outputs": [],
   "source": [
    "def run_sla_check():\n",
    "    # ... same code to generate violation_df\n",
    "    \n",
    "    if sla_violations:\n",
    "        violation_df.to_csv('sla_violations_report.csv', index=False)\n",
    "        print(\"SLA violation report saved to sla_violations_report.csv\")\n",
    "    else:\n",
    "        print(\"No SLA violations detected.\")"
   ]
  },
  {
   "cell_type": "code",
   "execution_count": 41,
   "id": "78a1d2a6-a435-4e31-b421-fb0282f369bb",
   "metadata": {},
   "outputs": [
    {
     "name": "stdout",
     "output_type": "stream",
     "text": [
      "SLA violation report saved to sla_violations_report.csv\n"
     ]
    }
   ],
   "source": [
    "run_sla_check()"
   ]
  },
  {
   "cell_type": "markdown",
   "id": "40f80590-7650-4e0c-999c-bbdfed64b447",
   "metadata": {},
   "source": [
    "# ✅ Step 4: Add Visual Monitoring Dashboard (Optional but Strongly Recommended)\n",
    "🎯 Goal: Visualize SLA violations using graphs to identify bottlenecks quickly.\n",
    "📊 1. Plot SLA Violations Summary\n",
    "We’ll plot:\n",
    "\n",
    "Failure rate\n",
    "\n",
    "Avg response time\n",
    "\n",
    "Response time violation rate"
   ]
  },
  {
   "cell_type": "code",
   "execution_count": 56,
   "id": "9f78f227-4b4e-415f-922a-a714c6afdc75",
   "metadata": {},
   "outputs": [
    {
     "name": "stdout",
     "output_type": "stream",
     "text": [
      "Index(['service_name', 'failure_rate', 'avg_response_time_ms',\n",
      "       'response_violation_rate'],\n",
      "      dtype='object')\n"
     ]
    }
   ],
   "source": [
    "import pandas as pd\n",
    "\n",
    "df = pd.read_csv('sla_violations_report.csv')\n",
    "print(df.columns)"
   ]
  },
  {
   "cell_type": "code",
   "execution_count": 58,
   "id": "23b50c4f-8309-4986-b4fd-c97d3f1416b1",
   "metadata": {},
   "outputs": [
    {
     "data": {
      "image/png": "[encoded data removed]",
      "text/plain": [
       "<Figure size 1000x1000 with 3 Axes>"
      ]
     },
     "metadata": {},
     "output_type": "display_data"
    }
   ],
   "source": [
    "import pandas as pd\n",
    "import matplotlib.pyplot as plt\n",
    "\n",
    "# Load the violations report\n",
    "df = pd.read_csv('sla_violations_report.csv')\n",
    "\n",
    "# Set the service name as index\n",
    "df.set_index('service_name', inplace=True)\n",
    "\n",
    "# Plot all metrics as bar chart\n",
    "fig, ax = plt.subplots(3, 1, figsize=(10, 10))\n",
    "\n",
    "# Failure Rate Plot\n",
    "df['failure_rate'].plot(kind='bar', ax=ax[0], color='crimson')\n",
    "ax[0].set_title('Failure Rate per Service')\n",
    "ax[0].set_ylabel('Failure Rate')\n",
    "\n",
    "# Average Response Time Plot\n",
    "df['avg_response_time_ms'].plot(kind='bar', ax=ax[1], color='darkorange')\n",
    "ax[1].set_title('Average Response Time per Service')\n",
    "ax[1].set_ylabel('Response Time (ms)')\n",
    "\n",
    "# Response Time Violation Rate Plot\n",
    "df['response_violation_rate'].plot(kind='bar', ax=ax[2], color='steelblue')\n",
    "ax[2].set_title('Response Time Violation Rate per Service')\n",
    "ax[2].set_ylabel('Violation Rate')\n",
    "\n",
    "plt.tight_layout()\n",
    "plt.show()\n"
   ]
  },
  {
   "cell_type": "markdown",
   "id": "d3af6519-cffa-421e-b70d-465272434df6",
   "metadata": {},
   "source": [
    "# ✅ 1. Pie Chart of Total SLA Violations by Type"
   ]
  },
  {
   "cell_type": "code",
   "execution_count": 65,
   "id": "48d69bc7-90b2-4c6c-9b53-3c8c52c616a6",
   "metadata": {},
   "outputs": [
    {
     "name": "stderr",
     "output_type": "stream",
     "text": [
      "C:\\Users\\Gouthum\\AppData\\Local\\Temp\\ipykernel_10844\\23573006.py:12: FutureWarning: Series.__getitem__ treating keys as positions is deprecated. In a future version, integer keys will always be treated as labels (consistent with DataFrame behavior). To access a value by position, use `ser.iloc[pos]`\n",
      "  df[['failure_rate', 'response_violation_rate']].apply(lambda x: x[0]*100 + x[1]*100, axis=1),\n"
     ]
    },
    {
     "data": {
      "image/png": "[encoded data removed]",
      "text/plain": [
       "<Figure size 1000x1000 with 1 Axes>"
      ]
     },
     "metadata": {},
     "output_type": "display_data"
    }
   ],
   "source": [
    "import matplotlib.pyplot as plt\n",
    "\n",
    "# Classify violations into types\n",
    "conditions = [\n",
    "    (df['failure_rate'] > 0.05) & (df['response_violation_rate'] > 0),\n",
    "    (df['failure_rate'] > 0.05),\n",
    "    (df['response_violation_rate'] > 0)\n",
    "]\n",
    "labels = ['Both', 'Failure Rate Only', 'Response Time Only']\n",
    "\n",
    "df['violation_type'] = pd.cut(\n",
    "    df[['failure_rate', 'response_violation_rate']].apply(lambda x: x[0]*100 + x[1]*100, axis=1),\n",
    "    bins=[-1, 5, 100, 10000],\n",
    "    labels=labels\n",
    ")\n",
    "\n",
    "violation_counts = df['violation_type'].value_counts()\n",
    "\n",
    "# Plot pie chart\n",
    "plt.figure(figsize=(10, 10))\n",
    "violation_counts.plot(kind='pie', autopct='%1.1f%%', colors=['gold', 'lightcoral', 'skyblue'])\n",
    "plt.title(\"Types of SLA Violations\")\n",
    "plt.ylabel(\"\")\n",
    "plt.show()"
   ]
  },
  {
   "cell_type": "markdown",
   "id": "1ca1fc7e-18ad-441c-b0a9-63a7e21e3fbb",
   "metadata": {},
   "source": [
    "# ✅ 2. Scatter Plot: Response Time vs. Failure Rate"
   ]
  },
  {
   "cell_type": "code",
   "execution_count": 68,
   "id": "dcdb6c3c-ddba-435f-9d21-08540186af6c",
   "metadata": {},
   "outputs": [
    {
     "name": "stderr",
     "output_type": "stream",
     "text": [
      "C:\\Users\\Gouthum\\AppData\\Local\\Temp\\ipykernel_10844\\958463486.py:5: FutureWarning: Series.__getitem__ treating keys as positions is deprecated. In a future version, integer keys will always be treated as labels (consistent with DataFrame behavior). To access a value by position, use `ser.iloc[pos]`\n",
      "  plt.annotate(txt, (df['avg_response_time_ms'][i], df['failure_rate'][i] * 100), fontsize=8)\n"
     ]
    },
    {
     "data": {
      "image/png": "[encoded data removed]",
      "text/plain": [
       "<Figure size 800x600 with 1 Axes>"
      ]
     },
     "metadata": {},
     "output_type": "display_data"
    }
   ],
   "source": [
    "plt.figure(figsize=(8, 6))\n",
    "plt.scatter(df['avg_response_time_ms'], df['failure_rate'] * 100, color='purple')\n",
    "\n",
    "for i, txt in enumerate(df.index):\n",
    "    plt.annotate(txt, (df['avg_response_time_ms'][i], df['failure_rate'][i] * 100), fontsize=8)\n",
    "\n",
    "plt.title(\"Failure Rate vs Average Response Time\")\n",
    "plt.xlabel(\"Average Response Time (ms)\")\n",
    "plt.ylabel(\"Failure Rate (%)\")\n",
    "plt.grid(True)\n",
    "plt.show()\n"
   ]
  },
  {
   "cell_type": "markdown",
   "id": "e2765b2a-cf28-49fd-a657-c12374cd0f04",
   "metadata": {},
   "source": [
    "#  Heatmap of SLA Metrics"
   ]
  },
  {
   "cell_type": "code",
   "execution_count": 71,
   "id": "9bf3e258-fcef-4ad9-84dc-406646615cbb",
   "metadata": {},
   "outputs": [
    {
     "data": {
      "image/png": "[encoded data removed]",
      "text/plain": [
       "<Figure size 800x500 with 2 Axes>"
      ]
     },
     "metadata": {},
     "output_type": "display_data"
    }
   ],
   "source": [
    "import seaborn as sns\n",
    "\n",
    "plt.figure(figsize=(8, 5))\n",
    "sns.heatmap(df[['failure_rate', 'avg_response_time_ms', 'response_violation_rate']], \n",
    "            annot=True, cmap=\"YlGnBu\", fmt=\".2f\")\n",
    "\n",
    "plt.title(\"SLA Metrics Heatmap\")\n",
    "plt.show()"
   ]
  },
  {
   "cell_type": "markdown",
   "id": "0dbb5afd-11ae-4574-b064-eb63b1376b60",
   "metadata": {},
   "source": [
    "# ✅ Option 1: 📧 Email Alerts for SLA Violations\n",
    "This enhancement sends an email automatically if SLA violations are found.\n",
    "\n"
   ]
  },
  {
   "cell_type": "markdown",
   "id": "f0fa26ec-5d58-4d03-9ecf-5771504ef257",
   "metadata": {},
   "source": [
    "# 🔧 Step 1: Configure Email Alerts\n",
    "We'll use smtplib and email for this (Gmail SMTP)."
   ]
  },
  {
   "cell_type": "code",
   "execution_count": 84,
   "id": "7d738fe0-cdae-4d35-91ae-9769ee6acb6a",
   "metadata": {},
   "outputs": [],
   "source": [
    "import smtplib\n",
    "from email.mime.text import MIMEText\n",
    "from email.mime.multipart import MIMEMultipart\n",
    "\n",
    "def send_email_alert(df):\n",
    "    sender_email = \"your_email@gmail.com\"   \n",
    "    receiver_email = \"receiver_email@gmail.com\"\n",
    "    app_password = \"your_app_password\"  # For Gmail, use App Passwords\n",
    "\n",
    "    # Email subject & content\n",
    "    subject = \"SLA Violations Detected\"\n",
    "    body = \"Hi,\\n\\nThe following services violated SLA thresholds:\\n\\n\"\n",
    "    body += df.to_string(index=False)\n",
    "    body += \"\\n\\nRegards,\\nSLA Monitoring System\"\n",
    "\n",
    "    # Create email\n",
    "    msg = MIMEMultipart()\n",
    "    msg['From'] = sender_email\n",
    "    msg['To'] = receiver_email\n",
    "    msg['Subject'] = subject\n",
    "\n",
    "    msg.attach(MIMEText(body, 'plain'))\n",
    "\n",
    "    # Send\n",
    "    try:\n",
    "        server = smtplib.SMTP('smtp.gmail.com', 587)\n",
    "        server.starttls()\n",
    "        server.login(sender_email, app_password)\n",
    "        server.sendmail(sender_email, receiver_email, msg.as_string())\n",
    "        server.quit()\n",
    "        print(\"Email alert sent successfully.\")\n",
    "    except Exception as e:\n",
    "        print(\"Failed to send email:\", str(e))\n"
   ]
  },
  {
   "cell_type": "markdown",
   "id": "b00be33e-c7f6-40ee-9579-ce105bf7aa6f",
   "metadata": {},
   "source": [
    "### send_email.py"
   ]
  },
  {
   "cell_type": "code",
   "execution_count": 187,
   "id": "ed82a123-9d45-4c2b-b07a-f1b76d8778be",
   "metadata": {},
   "outputs": [
    {
     "name": "stdout",
     "output_type": "stream",
     "text": [
      "✅ Created send_email.py at: C:\\Users\\Gouthum\\Downloads\\DE\\send_email.py\n"
     ]
    }
   ],
   "source": [
    "email_code = \"\"\"\n",
    "import smtplib\n",
    "from email.mime.text import MIMEText\n",
    "from email.mime.multipart import MIMEMultipart\n",
    "\n",
    "def send_email_alert(df):\n",
    "    sender_email = \"your_email@gmail.com\"   \n",
    "    receiver_email = \"receiver_email@gmail.com\"\n",
    "    app_password = \"your_app_password\"  # For Gmail, use App Passwords\n",
    "\n",
    "    # Email subject & content\n",
    "    subject = \"SLA Violations Detected\"\n",
    "    body = \"Hi,\\\\n\\\\nThe following services violated SLA thresholds:\\\\n\\\\n\"\n",
    "    body += df.to_string(index=False)\n",
    "    body += \"\\\\n\\\\nRegards,\\\\nSLA Monitoring System\"\n",
    "\n",
    "    # Create email\n",
    "    msg = MIMEMultipart()\n",
    "    msg['From'] = sender_email\n",
    "    msg['To'] = receiver_email\n",
    "    msg['Subject'] = subject\n",
    "\n",
    "    msg.attach(MIMEText(body, 'plain'))\n",
    "\n",
    "    # Send\n",
    "    try:\n",
    "        server = smtplib.SMTP('smtp.gmail.com', 587)\n",
    "        server.starttls()\n",
    "        server.login(sender_email, app_password)\n",
    "        server.sendmail(sender_email, receiver_email, msg.as_string())\n",
    "        server.quit()\n",
    "        print(\"Email alert sent successfully.\")\n",
    "    except Exception as e:\n",
    "        print(\"Failed to send email:\", str(e))\n",
    "\"\"\"\n",
    "\n",
    "# Save as send_email.py\n",
    "path = r\"C:\\Users\\Gouthum\\Downloads\\DE\\send_email.py\"\n",
    "with open(path, \"w\") as f:\n",
    "    f.write(email_code)\n",
    "\n",
    "print(f\"✅ Created send_email.py at: {path}\")\n"
   ]
  },
  {
   "cell_type": "markdown",
   "id": "f54f0b90-1f37-4884-b852-3c1969f8574f",
   "metadata": {},
   "source": [
    "# 🔧 Step 2: Modified my  run_sla_check() to trigger email\n",
    "Add this inside run_sla_check() when violations are detected:\n",
    "\n",
    "\n",
    "I didnt used gmail because of security reason , you can use this by adding your gmail "
   ]
  },
  {
   "cell_type": "code",
   "execution_count": 81,
   "id": "ed0ae5a2-7443-4490-a9e6-ca28a1610eb3",
   "metadata": {},
   "outputs": [
    {
     "name": "stdout",
     "output_type": "stream",
     "text": [
      "SLA violation report saved to sla_violations_report.csv\n",
      "❌ Failed to send email: (535, b'5.7.8 Username and Password not accepted. For more information, go to\\n5.7.8  https://support.google.com/mail/?p=BadCredentials d9443c01a7336-23603504ed2sm27738385ad.219 - gsmtp')\n"
     ]
    }
   ],
   "source": [
    "if sla_violations:\n",
    "    violation_df.to_csv('sla_violations_report.csv', index=False)\n",
    "    print(\"SLA violation report saved to sla_violations_report.csv\")\n",
    "\n",
    "    # 🔔 Trigger Email\n",
    "    send_email_alert(violation_df)\n",
    "else:\n",
    "    print(\"No SLA violations detected.\")\n"
   ]
  },
  {
   "cell_type": "markdown",
   "id": "fbd6f61c-6a03-4508-b7a9-be0393bc0ceb",
   "metadata": {},
   "source": [
    "# 🕒 Automated Monitoring — How to run run_sla_check() automatically\n",
    "Option 1: Using Python schedule module (simple for local/dev use)\n",
    "Install schedule (if not done yet):"
   ]
  },
  {
   "cell_type": "code",
   "execution_count": 89,
   "id": "014e1b16-334e-4070-80c5-119eb2915925",
   "metadata": {},
   "outputs": [
    {
     "name": "stdout",
     "output_type": "stream",
     "text": [
      "Defaulting to user installation because normal site-packages is not writeable\n",
      "Requirement already satisfied: schedule in c:\\users\\gouthum\\appdata\\roaming\\python\\python312\\site-packages (1.2.2)\n",
      "Note: you may need to restart the kernel to use updated packages.\n"
     ]
    }
   ],
   "source": [
    "pip install schedule"
   ]
  },
  {
   "cell_type": "markdown",
   "id": "8950de3a-4b1c-49c5-8173-0e2ca62c6c29",
   "metadata": {},
   "source": [
    "##### Create a Python script monitor_sla.py:"
   ]
  },
  {
   "cell_type": "code",
   "execution_count": 96,
   "id": "61ec9519-a58f-4f65-81c1-d36a9dfaa55f",
   "metadata": {},
   "outputs": [
    {
     "name": "stdout",
     "output_type": "stream",
     "text": [
      "Starting SLA monitoring... Press Ctrl+C to stop.\n",
      "Running SLA check...\n",
      "Running SLA check...\n",
      "Running SLA Check...\n",
      "Running SLA check...\n"
     ]
    },
    {
     "ename": "KeyboardInterrupt",
     "evalue": "",
     "output_type": "error",
     "traceback": [
      "\u001b[1;31m---------------------------------------------------------------------------\u001b[0m",
      "\u001b[1;31mKeyboardInterrupt\u001b[0m                         Traceback (most recent call last)",
      "Cell \u001b[1;32mIn[96], line 15\u001b[0m\n\u001b[0;32m     13\u001b[0m \u001b[38;5;28;01mwhile\u001b[39;00m \u001b[38;5;28;01mTrue\u001b[39;00m:\n\u001b[0;32m     14\u001b[0m     schedule\u001b[38;5;241m.\u001b[39mrun_pending()\n\u001b[1;32m---> 15\u001b[0m     time\u001b[38;5;241m.\u001b[39msleep(\u001b[38;5;241m1\u001b[39m)\n",
      "\u001b[1;31mKeyboardInterrupt\u001b[0m: "
     ]
    }
   ],
   "source": [
    "import schedule\n",
    "import time\n",
    "\n",
    "def run_sla_check():\n",
    "    # Your existing SLA check code here\n",
    "    # Make sure this function generates and saves the report\n",
    "\n",
    "# Schedule run_sla_check every hour\n",
    "    schedule.every(1).hour.do(run_sla_check)\n",
    "\n",
    "print(\"Starting SLA monitoring... Press Ctrl+C to stop.\")\n",
    "\n",
    "while True:\n",
    "    schedule.run_pending()\n",
    "    time.sleep(1)\n"
   ]
  },
  {
   "cell_type": "markdown",
   "id": "65e759b9-a0e0-434b-a7d5-416c7e18c238",
   "metadata": {},
   "source": [
    "# Option 1: Simulate Storing in a Cloud Database (e.g., SQLite / Mock Cloud DB)\n",
    "Since I dont  not have a real cloud DB setup yet, I can   simulate it by saving SLA violations into a local database file — which mimics the cloud DB behavior.\n",
    "\n",
    "Example using SQLite (local file-based DB):"
   ]
  },
  {
   "cell_type": "code",
   "execution_count": 104,
   "id": "d958fd13-f17d-46ac-b876-544668410eb0",
   "metadata": {},
   "outputs": [
    {
     "name": "stdout",
     "output_type": "stream",
     "text": [
      "SLA violations saved to simulated cloud DB (sla_violations.db)\n"
     ]
    }
   ],
   "source": [
    "import sqlite3\n",
    "\n",
    "def save_to_db(df):\n",
    "    conn = sqlite3.connect('sla_violations.db')  # creates file if not exist\n",
    "    df.to_sql('violations', conn, if_exists='replace', index=False)\n",
    "    conn.close()\n",
    "    print(\"SLA violations saved to simulated cloud DB (sla_violations.db)\")\n",
    "\n",
    "# Example usage:\n",
    "if sla_violations:\n",
    "    save_to_db(violation_df)\n",
    "else:\n",
    "    print(\"No SLA violations detected.\")"
   ]
  },
  {
   "cell_type": "markdown",
   "id": "a1d104ed-c073-48cd-872b-0226497a8730",
   "metadata": {},
   "source": [
    "# Option 2: Upload Report to Cloud Storage (Simulated with AWS S3 or Google Drive)\n",
    "If I  want to actually upload to cloud storage, I would'd normally use APIs like AWS S3, Google Drive, or Azure Blob Storage.\n",
    "\n",
    "Example (Simulated, no real credentials):"
   ]
  },
  {
   "cell_type": "code",
   "execution_count": 210,
   "id": "d31c173f-901b-4ffa-86f5-598e182d2511",
   "metadata": {},
   "outputs": [],
   "source": [
    "def upload_to_cloud(file_path):\n",
    "    print(f\"Simulating upload of {file_path} to cloud storage...\")\n",
    "    # I can later or future add code to upload to S3 using boto3 or Google Drive API\n"
   ]
  },
  {
   "cell_type": "code",
   "execution_count": 113,
   "id": "793941f9-b65e-4271-a4ae-2786c2622d28",
   "metadata": {},
   "outputs": [
    {
     "name": "stdout",
     "output_type": "stream",
     "text": [
      "Simulating upload of C:/Users/Gouthum/Downloads/DE/sla_violations_report.csv to cloud storage...\n"
     ]
    }
   ],
   "source": [
    "upload_to_cloud('C:/Users/Gouthum/Downloads/DE/sla_violations_report.csv')"
   ]
  },
  {
   "cell_type": "code",
   "execution_count": 115,
   "id": "74b31df3-5af5-4c9c-87bb-5d742a3a6075",
   "metadata": {},
   "outputs": [
    {
     "name": "stdout",
     "output_type": "stream",
     "text": [
      "Simulating upload of sla_violations_report.csv to cloud storage...\n",
      "Simulating upload of C:/Users/Gouthum/Downloads/DE/sla_violations_report.csv to cloud storage...\n"
     ]
    }
   ],
   "source": [
    "upload_to_cloud('sla_violations_report.csv')\n",
    "# or full path if running from another folder\n",
    "upload_to_cloud('C:/Users/Gouthum/Downloads/DE/sla_violations_report.csv')"
   ]
  },
  {
   "cell_type": "markdown",
   "id": "8a5ebcf7-2422-40b1-a8f2-8a1879f962d3",
   "metadata": {},
   "source": [
    "# Upload to the cloud logic"
   ]
  },
  {
   "cell_type": "code",
   "execution_count": 175,
   "id": "d64ec73a-e415-4ae1-a4d5-f74cceb0bbfe",
   "metadata": {},
   "outputs": [
    {
     "name": "stdout",
     "output_type": "stream",
     "text": [
      "Created: C:\\Users\\Gouthum\\Downloads\\DE\\utils\\upload_to_cloud.py\n"
     ]
    }
   ],
   "source": [
    "# Define the path and content\n",
    "upload_utils_path = r'C:\\Users\\Gouthum\\Downloads\\DE\\utils\\upload_to_cloud.py'\n",
    "\n",
    "upload_code = \"\"\"\n",
    "def upload_to_cloud(file_path):\n",
    "    print(f\"Simulating upload of {file_path} to cloud storage...\")\n",
    "    # we can later add real upload logic (e.g., boto3 for AWS, pydrive for Google Drive)\n",
    "\"\"\"\n",
    "\n",
    "# Write the file\n",
    "with open(upload_utils_path, 'w') as f:\n",
    "    f.write(upload_code)\n",
    "\n",
    "print(f\"Created: {upload_utils_path}\")"
   ]
  },
  {
   "cell_type": "markdown",
   "id": "9b633f49-ee1b-4c15-836e-afc3198366c9",
   "metadata": {},
   "source": [
    "# Step 1: Install Streamlit"
   ]
  },
  {
   "cell_type": "code",
   "execution_count": 118,
   "id": "aa25565d-9cd3-434a-a451-324b54d6091f",
   "metadata": {},
   "outputs": [
    {
     "name": "stdout",
     "output_type": "stream",
     "text": [
      "Defaulting to user installation because normal site-packages is not writeable\n",
      "Requirement already satisfied: streamlit in c:\\users\\gouthum\\appdata\\roaming\\python\\python312\\site-packages (1.12.0)\n",
      "Requirement already satisfied: altair>=3.2.0 in c:\\users\\gouthum\\appdata\\roaming\\python\\python312\\site-packages (from streamlit) (4.2.2)\n",
      "Requirement already satisfied: blinker>=1.0.0 in c:\\programdata\\anaconda3\\lib\\site-packages (from streamlit) (1.6.2)\n",
      "Requirement already satisfied: cachetools>=4.0 in c:\\programdata\\anaconda3\\lib\\site-packages (from streamlit) (5.3.3)\n",
      "Requirement already satisfied: click>=7.0 in c:\\programdata\\anaconda3\\lib\\site-packages (from streamlit) (8.1.7)\n",
      "Requirement already satisfied: importlib-metadata>=1.4 in c:\\programdata\\anaconda3\\lib\\site-packages (from streamlit) (7.0.1)\n",
      "Requirement already satisfied: numpy in c:\\programdata\\anaconda3\\lib\\site-packages (from streamlit) (1.26.4)\n",
      "Requirement already satisfied: packaging>=14.1 in c:\\programdata\\anaconda3\\lib\\site-packages (from streamlit) (24.1)\n",
      "Requirement already satisfied: pandas>=0.21.0 in c:\\programdata\\anaconda3\\lib\\site-packages (from streamlit) (2.2.2)\n",
      "Requirement already satisfied: pillow>=6.2.0 in c:\\programdata\\anaconda3\\lib\\site-packages (from streamlit) (10.4.0)\n",
      "Requirement already satisfied: protobuf<4,>=3.12 in c:\\users\\gouthum\\appdata\\roaming\\python\\python312\\site-packages (from streamlit) (3.20.3)\n",
      "Requirement already satisfied: pyarrow>=4.0 in c:\\programdata\\anaconda3\\lib\\site-packages (from streamlit) (16.1.0)\n",
      "Requirement already satisfied: pydeck>=0.1.dev5 in c:\\programdata\\anaconda3\\lib\\site-packages (from streamlit) (0.8.0)\n",
      "Requirement already satisfied: pympler>=0.9 in c:\\users\\gouthum\\appdata\\roaming\\python\\python312\\site-packages (from streamlit) (1.1)\n",
      "Requirement already satisfied: python-dateutil in c:\\programdata\\anaconda3\\lib\\site-packages (from streamlit) (2.9.0.post0)\n",
      "Requirement already satisfied: requests>=2.4 in c:\\users\\gouthum\\appdata\\roaming\\python\\python312\\site-packages (from streamlit) (2.32.3)\n",
      "Requirement already satisfied: rich>=10.11.0 in c:\\programdata\\anaconda3\\lib\\site-packages (from streamlit) (13.7.1)\n",
      "Requirement already satisfied: semver in c:\\programdata\\anaconda3\\lib\\site-packages (from streamlit) (3.0.2)\n",
      "Requirement already satisfied: toml in c:\\programdata\\anaconda3\\lib\\site-packages (from streamlit) (0.10.2)\n",
      "Requirement already satisfied: tornado>=5.0 in c:\\programdata\\anaconda3\\lib\\site-packages (from streamlit) (6.4.1)\n",
      "Requirement already satisfied: typing-extensions>=3.10.0.0 in c:\\users\\gouthum\\appdata\\roaming\\python\\python312\\site-packages (from streamlit) (4.13.2)\n",
      "Requirement already satisfied: tzlocal>=1.1 in c:\\users\\gouthum\\appdata\\roaming\\python\\python312\\site-packages (from streamlit) (5.3.1)\n",
      "Requirement already satisfied: validators>=0.2 in c:\\users\\gouthum\\appdata\\roaming\\python\\python312\\site-packages (from streamlit) (0.35.0)\n",
      "Requirement already satisfied: gitpython!=3.1.19 in c:\\programdata\\anaconda3\\lib\\site-packages (from streamlit) (3.1.43)\n",
      "Requirement already satisfied: watchdog in c:\\programdata\\anaconda3\\lib\\site-packages (from streamlit) (4.0.1)\n",
      "Requirement already satisfied: entrypoints in c:\\users\\gouthum\\appdata\\roaming\\python\\python312\\site-packages (from altair>=3.2.0->streamlit) (0.4)\n",
      "Requirement already satisfied: jinja2 in c:\\programdata\\anaconda3\\lib\\site-packages (from altair>=3.2.0->streamlit) (3.1.4)\n",
      "Requirement already satisfied: jsonschema>=3.0 in c:\\programdata\\anaconda3\\lib\\site-packages (from altair>=3.2.0->streamlit) (4.23.0)\n",
      "Requirement already satisfied: toolz in c:\\programdata\\anaconda3\\lib\\site-packages (from altair>=3.2.0->streamlit) (0.12.0)\n",
      "Requirement already satisfied: colorama in c:\\programdata\\anaconda3\\lib\\site-packages (from click>=7.0->streamlit) (0.4.6)\n",
      "Requirement already satisfied: gitdb<5,>=4.0.1 in c:\\programdata\\anaconda3\\lib\\site-packages (from gitpython!=3.1.19->streamlit) (4.0.7)\n",
      "Requirement already satisfied: zipp>=0.5 in c:\\programdata\\anaconda3\\lib\\site-packages (from importlib-metadata>=1.4->streamlit) (3.17.0)\n",
      "Requirement already satisfied: pytz>=2020.1 in c:\\programdata\\anaconda3\\lib\\site-packages (from pandas>=0.21.0->streamlit) (2024.1)\n",
      "Requirement already satisfied: tzdata>=2022.7 in c:\\programdata\\anaconda3\\lib\\site-packages (from pandas>=0.21.0->streamlit) (2023.3)\n",
      "Requirement already satisfied: pywin32>=226 in c:\\programdata\\anaconda3\\lib\\site-packages (from pympler>=0.9->streamlit) (305.1)\n",
      "Requirement already satisfied: six>=1.5 in c:\\programdata\\anaconda3\\lib\\site-packages (from python-dateutil->streamlit) (1.16.0)\n",
      "Requirement already satisfied: charset-normalizer<4,>=2 in c:\\users\\gouthum\\appdata\\roaming\\python\\python312\\site-packages (from requests>=2.4->streamlit) (2.1.1)\n",
      "Requirement already satisfied: idna<4,>=2.5 in c:\\programdata\\anaconda3\\lib\\site-packages (from requests>=2.4->streamlit) (3.7)\n",
      "Requirement already satisfied: urllib3<3,>=1.21.1 in c:\\users\\gouthum\\appdata\\roaming\\python\\python312\\site-packages (from requests>=2.4->streamlit) (2.4.0)\n",
      "Requirement already satisfied: certifi>=2017.4.17 in c:\\users\\gouthum\\appdata\\roaming\\python\\python312\\site-packages (from requests>=2.4->streamlit) (2025.4.26)\n",
      "Requirement already satisfied: markdown-it-py>=2.2.0 in c:\\programdata\\anaconda3\\lib\\site-packages (from rich>=10.11.0->streamlit) (2.2.0)\n",
      "Requirement already satisfied: pygments<3.0.0,>=2.13.0 in c:\\programdata\\anaconda3\\lib\\site-packages (from rich>=10.11.0->streamlit) (2.15.1)\n",
      "Requirement already satisfied: smmap<5,>=3.0.1 in c:\\programdata\\anaconda3\\lib\\site-packages (from gitdb<5,>=4.0.1->gitpython!=3.1.19->streamlit) (4.0.0)\n",
      "Requirement already satisfied: MarkupSafe>=2.0 in c:\\programdata\\anaconda3\\lib\\site-packages (from jinja2->altair>=3.2.0->streamlit) (2.1.3)\n",
      "Requirement already satisfied: attrs>=22.2.0 in c:\\users\\gouthum\\appdata\\roaming\\python\\python312\\site-packages (from jsonschema>=3.0->altair>=3.2.0->streamlit) (25.3.0)\n",
      "Requirement already satisfied: jsonschema-specifications>=2023.03.6 in c:\\programdata\\anaconda3\\lib\\site-packages (from jsonschema>=3.0->altair>=3.2.0->streamlit) (2023.7.1)\n",
      "Requirement already satisfied: referencing>=0.28.4 in c:\\programdata\\anaconda3\\lib\\site-packages (from jsonschema>=3.0->altair>=3.2.0->streamlit) (0.30.2)\n",
      "Requirement already satisfied: rpds-py>=0.7.1 in c:\\programdata\\anaconda3\\lib\\site-packages (from jsonschema>=3.0->altair>=3.2.0->streamlit) (0.10.6)\n",
      "Requirement already satisfied: mdurl~=0.1 in c:\\programdata\\anaconda3\\lib\\site-packages (from markdown-it-py>=2.2.0->rich>=10.11.0->streamlit) (0.1.0)\n",
      "Note: you may need to restart the kernel to use updated packages.\n"
     ]
    }
   ],
   "source": [
    "pip install streamlit"
   ]
  },
  {
   "cell_type": "markdown",
   "id": "eb9cc46d-cb23-416a-92b2-1a36297fa061",
   "metadata": {},
   "source": [
    "# Step 2: Create a new Python script for the dashboard\n",
    "Created a file called, for example, sla_dashboard.py inside My project folder (C:\\Users\\Gouthum\\Downloads\\DE)."
   ]
  },
  {
   "cell_type": "code",
   "execution_count": 122,
   "id": "05588a9f-048c-4d4c-83d7-e14cb49de6ab",
   "metadata": {},
   "outputs": [
    {
     "name": "stdout",
     "output_type": "stream",
     "text": [
      "File saved successfully at: C:\\Users\\Gouthum\\Downloads\\DE\\sla_dashboard.py\n"
     ]
    }
   ],
   "source": [
    "# Path where you want to save the file\n",
    "file_path = r\"C:\\Users\\Gouthum\\Downloads\\DE\\sla_dashboard.py\"\n",
    "\n",
    "# The Streamlit dashboard code as a multi-line string\n",
    "dashboard_code = \"\"\"\n",
    "import streamlit as st\n",
    "import pandas as pd\n",
    "\n",
    "st.title(\"SLA Violations Dashboard\")\n",
    "\n",
    "# Load SLA violations report\n",
    "df = pd.read_csv('sla_violations_report.csv')\n",
    "\n",
    "st.subheader(\"All SLA Violations\")\n",
    "st.dataframe(df)\n",
    "\"\"\"\n",
    "\n",
    "# Write the code string to the file\n",
    "with open(file_path, 'w') as file:\n",
    "    file.write(dashboard_code)\n",
    "\n",
    "print(f\"File saved successfully at: {file_path}\")"
   ]
  },
  {
   "cell_type": "markdown",
   "id": "be1ff5c4-abee-4b8e-a51f-60cf1cd94b73",
   "metadata": {},
   "source": [
    "# Step 3: Basic Streamlit code to load and display SLA violations table\n",
    "Paste this inside sla_dashboard.py"
   ]
  },
  {
   "cell_type": "code",
   "execution_count": 125,
   "id": "dd23f4c9-a9d1-442b-8a3a-c9fe01edb0e1",
   "metadata": {},
   "outputs": [
    {
     "name": "stdout",
     "output_type": "stream",
     "text": [
      "sla_dashboard.py created at C:\\Users\\Gouthum\\Downloads\\DE\\sla_dashboard.py\n"
     ]
    }
   ],
   "source": [
    "# Define the file path where the Streamlit script will be saved\n",
    "file_path = r\"C:\\Users\\Gouthum\\Downloads\\DE\\sla_dashboard.py\"\n",
    "\n",
    "# Streamlit dashboard code to display the SLA violations table\n",
    "streamlit_code = \"\"\"\n",
    "import streamlit as st\n",
    "import pandas as pd\n",
    "\n",
    "st.title(\"SLA Violations Dashboard\")\n",
    "\n",
    "# Load SLA violations report\n",
    "df = pd.read_csv('sla_violations_report.csv')\n",
    "\n",
    "st.subheader(\"All SLA Violations\")\n",
    "st.dataframe(df)\n",
    "\"\"\"\n",
    "\n",
    "# Write the Streamlit code to sla_dashboard.py\n",
    "with open(file_path, 'w') as f:\n",
    "    f.write(streamlit_code)\n",
    "\n",
    "print(f\"sla_dashboard.py created at {file_path}\")\n"
   ]
  },
  {
   "cell_type": "code",
   "execution_count": 127,
   "id": "26d3ed61-0deb-4d40-8b2e-0a2cbda6e8ae",
   "metadata": {},
   "outputs": [
    {
     "name": "stderr",
     "output_type": "stream",
     "text": [
      "2025-06-07 20:31:57.866 \n",
      "  \u001b[33m\u001b[1mWarning:\u001b[0m to view this Streamlit app on a browser, run it with the following\n",
      "  command:\n",
      "\n",
      "    streamlit run C:\\ProgramData\\anaconda3\\Lib\\site-packages\\ipykernel_launcher.py [ARGUMENTS]\n"
     ]
    },
    {
     "data": {
      "text/plain": [
       "DeltaGenerator(_root_container=0, _provided_cursor=None, _parent=None, _block_type=None, _form_data=None)"
      ]
     },
     "execution_count": 127,
     "metadata": {},
     "output_type": "execute_result"
    }
   ],
   "source": [
    "import streamlit as st\n",
    "import pandas as pd\n",
    "import matplotlib.pyplot as plt\n",
    "import seaborn as sns\n",
    "\n",
    "st.title(\"SLA Violations Dashboard\")\n",
    "\n",
    "# Load SLA violations report\n",
    "df = pd.read_csv('sla_violations_report.csv')\n",
    "\n",
    "# Filter by service name dropdown\n",
    "service_names = ['All'] + df['service_name'].unique().tolist()\n",
    "selected_service = st.selectbox(\"Filter by Service\", service_names)\n",
    "\n",
    "filtered_df = df.copy()\n",
    "\n",
    "if selected_service != 'All':\n",
    "    filtered_df = filtered_df[filtered_df['service_name'] == selected_service]\n",
    "\n",
    "# Filter by minimum failure rate slider\n",
    "min_failure_rate = st.slider(\n",
    "    \"Minimum Failure Rate (%)\",\n",
    "    min_value=0.0,\n",
    "    max_value=float(df['failure_rate'].max()),\n",
    "    value=0.0\n",
    ")\n",
    "filtered_df = filtered_df[filtered_df['failure_rate'] >= min_failure_rate]\n",
    "\n",
    "# Filter by minimum response violation rate slider\n",
    "min_response_violation = st.slider(\n",
    "    \"Minimum Response Violation Rate (%)\",\n",
    "    min_value=0.0,\n",
    "    max_value=float(filtered_df['response_violation_rate'].max()),\n",
    "    value=0.0\n",
    ")\n",
    "filtered_df = filtered_df[filtered_df['response_violation_rate'] >= min_response_violation]\n",
    "\n",
    "st.subheader(\"Filtered SLA Violations\")\n",
    "st.dataframe(filtered_df.reset_index(drop=True))\n",
    "\n",
    "# -- Add a bar plot for Failure Rate by Service Name --\n",
    "st.subheader(\"Failure Rate by Service\")\n",
    "\n",
    "plt.figure(figsize=(8, 5))\n",
    "sns.barplot(data=filtered_df, x='service_name', y='failure_rate')\n",
    "plt.xticks(rotation=45)\n",
    "plt.ylabel(\"Failure Rate (%)\")\n",
    "plt.xlabel(\"Service Name\")\n",
    "plt.title(\"Failure Rate per Service\")\n",
    "\n",
    "st.pyplot(plt.gcf())\n",
    "\n",
    "# -- Add a scatter plot for Failure Rate vs Response Violation Rate --\n",
    "st.subheader(\"Failure Rate vs Response Violation Rate\")\n",
    "\n",
    "plt.figure(figsize=(10, 5))\n",
    "sns.scatterplot(\n",
    "    data=filtered_df,\n",
    "    x='failure_rate',\n",
    "    y='response_violation_rate',\n",
    "    hue='service_name',\n",
    "    palette='Set2',\n",
    "    s=100,\n",
    "    alpha=0.7\n",
    ")\n",
    "plt.xlabel(\"Failure Rate (%)\")\n",
    "plt.ylabel(\"Response Violation Rate (%)\")\n",
    "plt.title(\"Failure Rate vs Response Violation Rate\")\n",
    "plt.legend(title='Service', bbox_to_anchor=(1.05, 1), loc='upper left')\n",
    "plt.tight_layout()\n",
    "\n",
    "st.pyplot(plt.gcf())"
   ]
  },
  {
   "cell_type": "markdown",
   "id": "5286eaa4-0032-44b1-b778-01783628f59a",
   "metadata": {},
   "source": [
    "# Step 1: Add Charts and Graphs in Streamlit Dashboard\n",
    "Here’s an enhanced version of your dashboard code with:\n",
    "\n",
    "Bar charts for failure rate and response times\n",
    "\n",
    "Pie chart for violation types\n",
    "\n",
    "Filters for service name and violation type\n",
    "\n",
    "python\n",
    "Copy\n",
    "Edit\n"
   ]
  },
  {
   "cell_type": "code",
   "execution_count": 130,
   "id": "b3e38063-8528-4f0a-935b-bea0fcbc09eb",
   "metadata": {},
   "outputs": [],
   "source": [
    "import streamlit as st\n",
    "import pandas as pd\n",
    "\n",
    "st.title(\"SLA Violations Dashboard\")\n",
    "\n",
    "# Load SLA violations report\n",
    "df = pd.read_csv('sla_violations_report.csv')\n",
    "\n",
    "# Normalize column names (in case)\n",
    "df.columns = [col.strip().lower().replace(' ', '_') for col in df.columns]\n",
    "\n",
    "# Filter sidebar\n",
    "st.sidebar.header(\"Filter Options\")\n",
    "\n",
    "# Service filter\n",
    "services = df['service_name'].unique()\n",
    "selected_services = st.sidebar.multiselect(\"Select Service(s)\", services, default=services)\n",
    "\n",
    "# Violation type filter\n",
    "violation_types = ['Failure Rate', 'Response Time Violation']\n",
    "selected_violations = st.sidebar.multiselect(\"Select Violation Types\", violation_types, default=violation_types)\n",
    "\n",
    "# Filter dataframe by service\n",
    "filtered_df = df[df['service_name'].isin(selected_services)]\n",
    "\n",
    "# Show filtered table\n",
    "st.subheader(\"Filtered SLA Violations\")\n",
    "st.dataframe(filtered_df)\n",
    "\n",
    "# Plot charts conditionally based on filters\n",
    "if 'Failure Rate' in selected_violations:\n",
    "    st.subheader(\"Failure Rate by Service\")\n",
    "    st.bar_chart(filtered_df.set_index('service_name')['failure_rate'])\n",
    "\n",
    "if 'Response Time Violation' in selected_violations:\n",
    "    st.subheader(\"Response Time Violation Rate by Service\")\n",
    "    st.bar_chart(filtered_df.set_index('service_name')['response_violation_rate'])\n"
   ]
  },
  {
   "cell_type": "code",
   "execution_count": 200,
   "id": "10b038a1-6548-407c-8ff5-81de9872333d",
   "metadata": {},
   "outputs": [
    {
     "name": "stdout",
     "output_type": "stream",
     "text": [
      "✅ Streamlit dashboard code saved as 'sla_dashboard.py'.\n"
     ]
    }
   ],
   "source": [
    "dashboard_code = '''import streamlit as st\n",
    "import pandas as pd\n",
    "import matplotlib.pyplot as plt\n",
    "\n",
    "st.title(\"SLA Violations Dashboard\")\n",
    "\n",
    "@st.cache_data(ttl=60)\n",
    "def load_data():\n",
    "    return pd.read_csv('data/sample_sla_data.csv')\n",
    "\n",
    "# Load data\n",
    "df = load_data()\n",
    "\n",
    "# Filters\n",
    "service_filter = st.multiselect(\"Filter by Service Name\", options=df['service_name'].unique(), default=df['service_name'].unique())\n",
    "date_range = st.date_input(\"Select Date Range\", [df['date'].min(), df['date'].max()])\n",
    "violation_types = st.multiselect(\"Filter by Violation Type\", options=df['violation_type'].unique(), default=df['violation_type'].unique())\n",
    "\n",
    "# Filter data\n",
    "filtered_df = df[\n",
    "    (df['service_name'].isin(service_filter)) &\n",
    "    (df['violation_type'].isin(violation_types)) &\n",
    "    (df['date'] >= pd.to_datetime(date_range[0])) &\n",
    "    (df['date'] <= pd.to_datetime(date_range[1]))\n",
    "]\n",
    "\n",
    "st.subheader(\"Filtered SLA Violations\")\n",
    "st.dataframe(filtered_df)\n",
    "\n",
    "# Bar Chart: Violations by Service\n",
    "st.subheader(\"Violation Counts by Service\")\n",
    "service_counts = filtered_df['service_name'].value_counts()\n",
    "st.bar_chart(service_counts)\n",
    "\n",
    "# Pie Chart: Violation Type Distribution\n",
    "st.subheader(\"Violation Types Distribution\")\n",
    "violation_counts = filtered_df['violation_type'].value_counts()\n",
    "\n",
    "fig, ax = plt.subplots()\n",
    "ax.pie(violation_counts, labels=violation_counts.index, autopct='%1.1f%%')\n",
    "st.pyplot(fig)\n",
    "'''\n",
    "\n",
    "# Save to file\n",
    "with open(\"C:/Users/Gouthum/Downloads/DE/sla_dashboard.py\", \"w\", encoding=\"utf-8\") as f:\n",
    "    f.write(dashboard_code)\n",
    "\n",
    "print(\"✅ Streamlit dashboard code saved as 'sla_dashboard.py'.\")"
   ]
  },
  {
   "cell_type": "markdown",
   "id": "93045654-ae56-4c73-abd8-e52663d8b0ad",
   "metadata": {},
   "source": [
    "# Step 2: Implement Auto-Refresh\n",
    "Streamlit doesn’t have native “auto-refresh,” but we can add this at the top of our script:"
   ]
  },
  {
   "cell_type": "code",
   "execution_count": 139,
   "id": "9312c829-ab4c-44d4-978a-cab163a6a947",
   "metadata": {},
   "outputs": [
    {
     "name": "stdout",
     "output_type": "stream",
     "text": [
      "Defaulting to user installation because normal site-packages is not writeable\n",
      "Collecting streamlit-autorefresh\n",
      "  Downloading streamlit_autorefresh-1.0.1-py3-none-any.whl.metadata (436 bytes)\n",
      "Requirement already satisfied: streamlit>=0.75 in c:\\users\\gouthum\\appdata\\roaming\\python\\python312\\site-packages (from streamlit-autorefresh) (1.12.0)\n",
      "Requirement already satisfied: altair>=3.2.0 in c:\\users\\gouthum\\appdata\\roaming\\python\\python312\\site-packages (from streamlit>=0.75->streamlit-autorefresh) (4.2.2)\n",
      "Requirement already satisfied: blinker>=1.0.0 in c:\\programdata\\anaconda3\\lib\\site-packages (from streamlit>=0.75->streamlit-autorefresh) (1.6.2)\n",
      "Requirement already satisfied: cachetools>=4.0 in c:\\programdata\\anaconda3\\lib\\site-packages (from streamlit>=0.75->streamlit-autorefresh) (5.3.3)\n",
      "Requirement already satisfied: click>=7.0 in c:\\programdata\\anaconda3\\lib\\site-packages (from streamlit>=0.75->streamlit-autorefresh) (8.1.7)\n",
      "Requirement already satisfied: importlib-metadata>=1.4 in c:\\programdata\\anaconda3\\lib\\site-packages (from streamlit>=0.75->streamlit-autorefresh) (7.0.1)\n",
      "Requirement already satisfied: numpy in c:\\programdata\\anaconda3\\lib\\site-packages (from streamlit>=0.75->streamlit-autorefresh) (1.26.4)\n",
      "Requirement already satisfied: packaging>=14.1 in c:\\programdata\\anaconda3\\lib\\site-packages (from streamlit>=0.75->streamlit-autorefresh) (24.1)\n",
      "Requirement already satisfied: pandas>=0.21.0 in c:\\programdata\\anaconda3\\lib\\site-packages (from streamlit>=0.75->streamlit-autorefresh) (2.2.2)\n",
      "Requirement already satisfied: pillow>=6.2.0 in c:\\programdata\\anaconda3\\lib\\site-packages (from streamlit>=0.75->streamlit-autorefresh) (10.4.0)\n",
      "Requirement already satisfied: protobuf<4,>=3.12 in c:\\users\\gouthum\\appdata\\roaming\\python\\python312\\site-packages (from streamlit>=0.75->streamlit-autorefresh) (3.20.3)\n",
      "Requirement already satisfied: pyarrow>=4.0 in c:\\programdata\\anaconda3\\lib\\site-packages (from streamlit>=0.75->streamlit-autorefresh) (16.1.0)\n",
      "Requirement already satisfied: pydeck>=0.1.dev5 in c:\\programdata\\anaconda3\\lib\\site-packages (from streamlit>=0.75->streamlit-autorefresh) (0.8.0)\n",
      "Requirement already satisfied: pympler>=0.9 in c:\\users\\gouthum\\appdata\\roaming\\python\\python312\\site-packages (from streamlit>=0.75->streamlit-autorefresh) (1.1)\n",
      "Requirement already satisfied: python-dateutil in c:\\programdata\\anaconda3\\lib\\site-packages (from streamlit>=0.75->streamlit-autorefresh) (2.9.0.post0)\n",
      "Requirement already satisfied: requests>=2.4 in c:\\users\\gouthum\\appdata\\roaming\\python\\python312\\site-packages (from streamlit>=0.75->streamlit-autorefresh) (2.32.3)\n",
      "Requirement already satisfied: rich>=10.11.0 in c:\\programdata\\anaconda3\\lib\\site-packages (from streamlit>=0.75->streamlit-autorefresh) (13.7.1)\n",
      "Requirement already satisfied: semver in c:\\programdata\\anaconda3\\lib\\site-packages (from streamlit>=0.75->streamlit-autorefresh) (3.0.2)\n",
      "Requirement already satisfied: toml in c:\\programdata\\anaconda3\\lib\\site-packages (from streamlit>=0.75->streamlit-autorefresh) (0.10.2)\n",
      "Requirement already satisfied: tornado>=5.0 in c:\\programdata\\anaconda3\\lib\\site-packages (from streamlit>=0.75->streamlit-autorefresh) (6.4.1)\n",
      "Requirement already satisfied: typing-extensions>=3.10.0.0 in c:\\users\\gouthum\\appdata\\roaming\\python\\python312\\site-packages (from streamlit>=0.75->streamlit-autorefresh) (4.13.2)\n",
      "Requirement already satisfied: tzlocal>=1.1 in c:\\users\\gouthum\\appdata\\roaming\\python\\python312\\site-packages (from streamlit>=0.75->streamlit-autorefresh) (5.3.1)\n",
      "Requirement already satisfied: validators>=0.2 in c:\\users\\gouthum\\appdata\\roaming\\python\\python312\\site-packages (from streamlit>=0.75->streamlit-autorefresh) (0.35.0)\n",
      "Requirement already satisfied: gitpython!=3.1.19 in c:\\programdata\\anaconda3\\lib\\site-packages (from streamlit>=0.75->streamlit-autorefresh) (3.1.43)\n",
      "Requirement already satisfied: watchdog in c:\\programdata\\anaconda3\\lib\\site-packages (from streamlit>=0.75->streamlit-autorefresh) (4.0.1)\n",
      "Requirement already satisfied: entrypoints in c:\\users\\gouthum\\appdata\\roaming\\python\\python312\\site-packages (from altair>=3.2.0->streamlit>=0.75->streamlit-autorefresh) (0.4)\n",
      "Requirement already satisfied: jinja2 in c:\\programdata\\anaconda3\\lib\\site-packages (from altair>=3.2.0->streamlit>=0.75->streamlit-autorefresh) (3.1.4)\n",
      "Requirement already satisfied: jsonschema>=3.0 in c:\\programdata\\anaconda3\\lib\\site-packages (from altair>=3.2.0->streamlit>=0.75->streamlit-autorefresh) (4.23.0)\n",
      "Requirement already satisfied: toolz in c:\\programdata\\anaconda3\\lib\\site-packages (from altair>=3.2.0->streamlit>=0.75->streamlit-autorefresh) (0.12.0)\n",
      "Requirement already satisfied: colorama in c:\\programdata\\anaconda3\\lib\\site-packages (from click>=7.0->streamlit>=0.75->streamlit-autorefresh) (0.4.6)\n",
      "Requirement already satisfied: gitdb<5,>=4.0.1 in c:\\programdata\\anaconda3\\lib\\site-packages (from gitpython!=3.1.19->streamlit>=0.75->streamlit-autorefresh) (4.0.7)\n",
      "Requirement already satisfied: zipp>=0.5 in c:\\programdata\\anaconda3\\lib\\site-packages (from importlib-metadata>=1.4->streamlit>=0.75->streamlit-autorefresh) (3.17.0)\n",
      "Requirement already satisfied: pytz>=2020.1 in c:\\programdata\\anaconda3\\lib\\site-packages (from pandas>=0.21.0->streamlit>=0.75->streamlit-autorefresh) (2024.1)\n",
      "Requirement already satisfied: tzdata>=2022.7 in c:\\programdata\\anaconda3\\lib\\site-packages (from pandas>=0.21.0->streamlit>=0.75->streamlit-autorefresh) (2023.3)\n",
      "Requirement already satisfied: pywin32>=226 in c:\\programdata\\anaconda3\\lib\\site-packages (from pympler>=0.9->streamlit>=0.75->streamlit-autorefresh) (305.1)\n",
      "Requirement already satisfied: six>=1.5 in c:\\programdata\\anaconda3\\lib\\site-packages (from python-dateutil->streamlit>=0.75->streamlit-autorefresh) (1.16.0)\n",
      "Requirement already satisfied: charset-normalizer<4,>=2 in c:\\users\\gouthum\\appdata\\roaming\\python\\python312\\site-packages (from requests>=2.4->streamlit>=0.75->streamlit-autorefresh) (2.1.1)\n",
      "Requirement already satisfied: idna<4,>=2.5 in c:\\programdata\\anaconda3\\lib\\site-packages (from requests>=2.4->streamlit>=0.75->streamlit-autorefresh) (3.7)\n",
      "Requirement already satisfied: urllib3<3,>=1.21.1 in c:\\users\\gouthum\\appdata\\roaming\\python\\python312\\site-packages (from requests>=2.4->streamlit>=0.75->streamlit-autorefresh) (2.4.0)\n",
      "Requirement already satisfied: certifi>=2017.4.17 in c:\\users\\gouthum\\appdata\\roaming\\python\\python312\\site-packages (from requests>=2.4->streamlit>=0.75->streamlit-autorefresh) (2025.4.26)\n",
      "Requirement already satisfied: markdown-it-py>=2.2.0 in c:\\programdata\\anaconda3\\lib\\site-packages (from rich>=10.11.0->streamlit>=0.75->streamlit-autorefresh) (2.2.0)\n",
      "Requirement already satisfied: pygments<3.0.0,>=2.13.0 in c:\\programdata\\anaconda3\\lib\\site-packages (from rich>=10.11.0->streamlit>=0.75->streamlit-autorefresh) (2.15.1)\n",
      "Requirement already satisfied: smmap<5,>=3.0.1 in c:\\programdata\\anaconda3\\lib\\site-packages (from gitdb<5,>=4.0.1->gitpython!=3.1.19->streamlit>=0.75->streamlit-autorefresh) (4.0.0)\n",
      "Requirement already satisfied: MarkupSafe>=2.0 in c:\\programdata\\anaconda3\\lib\\site-packages (from jinja2->altair>=3.2.0->streamlit>=0.75->streamlit-autorefresh) (2.1.3)\n",
      "Requirement already satisfied: attrs>=22.2.0 in c:\\users\\gouthum\\appdata\\roaming\\python\\python312\\site-packages (from jsonschema>=3.0->altair>=3.2.0->streamlit>=0.75->streamlit-autorefresh) (25.3.0)\n",
      "Requirement already satisfied: jsonschema-specifications>=2023.03.6 in c:\\programdata\\anaconda3\\lib\\site-packages (from jsonschema>=3.0->altair>=3.2.0->streamlit>=0.75->streamlit-autorefresh) (2023.7.1)\n",
      "Requirement already satisfied: referencing>=0.28.4 in c:\\programdata\\anaconda3\\lib\\site-packages (from jsonschema>=3.0->altair>=3.2.0->streamlit>=0.75->streamlit-autorefresh) (0.30.2)\n",
      "Requirement already satisfied: rpds-py>=0.7.1 in c:\\programdata\\anaconda3\\lib\\site-packages (from jsonschema>=3.0->altair>=3.2.0->streamlit>=0.75->streamlit-autorefresh) (0.10.6)\n",
      "Requirement already satisfied: mdurl~=0.1 in c:\\programdata\\anaconda3\\lib\\site-packages (from markdown-it-py>=2.2.0->rich>=10.11.0->streamlit>=0.75->streamlit-autorefresh) (0.1.0)\n",
      "Downloading streamlit_autorefresh-1.0.1-py3-none-any.whl (700 kB)\n",
      "   ---------------------------------------- 0.0/700.8 kB ? eta -:--:--\n",
      "   ---------------------------------------- 700.8/700.8 kB 5.6 MB/s eta 0:00:00\n",
      "Installing collected packages: streamlit-autorefresh\n",
      "Successfully installed streamlit-autorefresh-1.0.1\n",
      "Note: you may need to restart the kernel to use updated packages.\n"
     ]
    }
   ],
   "source": [
    "pip install streamlit-autorefresh\n"
   ]
  },
  {
   "cell_type": "code",
   "execution_count": 148,
   "id": "47d590a2-f27b-4648-8d86-0f74c65c3310",
   "metadata": {},
   "outputs": [],
   "source": [
    "from streamlit_autorefresh import st_autorefresh\n",
    "\n",
    "# Refresh every 60 seconds\n",
    "count = st_autorefresh(interval=60000, limit=None, key=\"refresh\")"
   ]
  },
  {
   "cell_type": "code",
   "execution_count": null,
   "id": "0070fafd-2745-4446-8b6f-210cc5d34669",
   "metadata": {},
   "outputs": [],
   "source": []
  },
  {
   "cell_type": "code",
   "execution_count": null,
   "id": "d86597dc-4596-47f0-b8cb-800c1cefce64",
   "metadata": {},
   "outputs": [],
   "source": []
  },
  {
   "cell_type": "code",
   "execution_count": null,
   "id": "9a2b7f4a-37cf-461f-ab0a-78b9f1712e91",
   "metadata": {},
   "outputs": [],
   "source": []
  },
  {
   "cell_type": "code",
   "execution_count": null,
   "id": "d1d6c397-0fbf-4e7d-9a6f-30e70e4626d5",
   "metadata": {},
   "outputs": [],
   "source": []
  },
  {
   "cell_type": "code",
   "execution_count": 150,
   "id": "7d0878c4-c89c-423b-b633-09a34e2f1180",
   "metadata": {},
   "outputs": [],
   "source": [
    "st.write(\"Columns in CSV:\", df.columns.tolist())"
   ]
  },
  {
   "cell_type": "code",
   "execution_count": 152,
   "id": "db90d0be-d931-4ee6-aa57-15db1c951dbb",
   "metadata": {},
   "outputs": [
    {
     "data": {
      "text/plain": [
       "Index(['service_name', 'failure_rate', 'avg_response_time_ms',\n",
       "       'response_violation_rate'],\n",
       "      dtype='object')"
      ]
     },
     "execution_count": 152,
     "metadata": {},
     "output_type": "execute_result"
    }
   ],
   "source": [
    "df.columns = [col.strip().lower().replace(' ', '_') for col in df.columns]\n",
    "df.columns"
   ]
  },
  {
   "cell_type": "code",
   "execution_count": 154,
   "id": "11da7100-ebf6-43c7-9a49-7a7fd4c0096c",
   "metadata": {},
   "outputs": [],
   "source": [
    "st.write(f\"Filtering services: {selected_services}\")\n",
    "st.write(f\"Filtered dataframe shape: {filtered_df.shape}\")"
   ]
  },
  {
   "cell_type": "code",
   "execution_count": 156,
   "id": "e16aa769-ad11-4ff2-a491-05631c37b4e5",
   "metadata": {},
   "outputs": [
    {
     "data": {
      "text/plain": [
       "<bound method WriteMixin.write of DeltaGenerator(_root_container=0, _provided_cursor=None, _parent=None, _block_type=None, _form_data=None)>"
      ]
     },
     "execution_count": 156,
     "metadata": {},
     "output_type": "execute_result"
    }
   ],
   "source": [
    "st.write"
   ]
  },
  {
   "cell_type": "code",
   "execution_count": 158,
   "id": "277a54c0-4e46-4dd0-a769-86a1c3f7bb19",
   "metadata": {},
   "outputs": [
    {
     "data": {
      "text/plain": [
       "(4, 4)"
      ]
     },
     "execution_count": 158,
     "metadata": {},
     "output_type": "execute_result"
    }
   ],
   "source": [
    "filtered_df.shape"
   ]
  },
  {
   "cell_type": "code",
   "execution_count": 160,
   "id": "2e7eae68-b72c-49a1-9659-a17351967671",
   "metadata": {},
   "outputs": [],
   "source": [
    "if not filtered_df.empty:\n",
    "    if 'Failure Rate' in selected_violations:\n",
    "        st.subheader(\"Failure Rate by Service\")\n",
    "        st.bar_chart(filtered_df.set_index('service_name')['failure_rate'])\n",
    "\n",
    "    if 'Response Time Violation' in selected_violations:\n",
    "        st.subheader(\"Response Time Violation Rate by Service\")\n",
    "        st.bar_chart(filtered_df.set_index('service_name')['response_violation_rate'])\n",
    "else:\n",
    "    st.write(\"No data available for selected filters.\")\n"
   ]
  },
  {
   "cell_type": "code",
   "execution_count": 162,
   "id": "394ad210-ac9c-40c6-89d8-378e4f80f83f",
   "metadata": {},
   "outputs": [],
   "source": [
    "import streamlit as st\n",
    "import pandas as pd\n",
    "\n",
    "st.title(\"SLA Violations Dashboard\")\n",
    "\n",
    "# Load data\n",
    "df = pd.read_csv('sla_violations_report.csv')\n",
    "\n",
    "# Normalize columns\n",
    "df.columns = [col.strip().lower().replace(' ', '_') for col in df.columns]\n",
    "\n",
    "# Sidebar filters\n",
    "services = df['service_name'].unique()\n",
    "selected_services = st.sidebar.multiselect(\"Select Service(s)\", services, default=list(services))\n",
    "\n",
    "violation_types = ['Failure Rate', 'Response Time Violation']\n",
    "selected_violations = st.sidebar.multiselect(\"Select Violation Types\", violation_types, default=violation_types)\n",
    "\n",
    "# Filter dataframe\n",
    "filtered_df = df[df['service_name'].isin(selected_services)]\n",
    "\n",
    "# Show data table\n",
    "st.subheader(\"Filtered SLA Violations\")\n",
    "st.dataframe(filtered_df)\n",
    "\n",
    "# Show charts if data exists\n",
    "if not filtered_df.empty:\n",
    "    if 'Failure Rate' in selected_violations:\n",
    "        st.subheader(\"Failure Rate by Service\")\n",
    "        st.bar_chart(filtered_df.set_index('service_name')['failure_rate'])\n",
    "\n",
    "    if 'Response Time Violation' in selected_violations:\n",
    "        st.subheader(\"Response Time Violation Rate by Service\")\n",
    "        st.bar_chart(filtered_df.set_index('service_name')['response_violation_rate'])\n",
    "else:\n",
    "    st.write(\"No data available for selected filters.\")\n"
   ]
  },
  {
   "cell_type": "code",
   "execution_count": 164,
   "id": "8e4ea187-6df3-4192-9049-8c434699f948",
   "metadata": {},
   "outputs": [
    {
     "name": "stdout",
     "output_type": "stream",
     "text": [
      "^C\n"
     ]
    }
   ],
   "source": [
    "!streamlit run sla_dashboard.py\n"
   ]
  },
  {
   "cell_type": "markdown",
   "id": "06a9e40b-8538-42e9-88f1-6fe7895721d1",
   "metadata": {},
   "source": [
    "# Requirement.TXT"
   ]
  },
  {
   "cell_type": "code",
   "execution_count": 190,
   "id": "4f019f4d-67f6-4201-ad52-772b09f65afc",
   "metadata": {},
   "outputs": [
    {
     "name": "stdout",
     "output_type": "stream",
     "text": [
      "✅ Created requirements.txt at: C:\\Users\\Gouthum\\Downloads\\DE\\requirements.txt\n"
     ]
    }
   ],
   "source": [
    "requirements = \"\"\"\n",
    "pandas\n",
    "streamlit\n",
    "schedule\n",
    "smtplib\n",
    "email\n",
    "sqlite3\n",
    "\"\"\"\n",
    "\n",
    "# Save as requirements.txt\n",
    "path = r\"C:\\Users\\Gouthum\\Downloads\\DE\\requirements.txt\"\n",
    "with open(path, \"w\") as f:\n",
    "    f.write(requirements.strip())\n",
    "\n",
    "print(f\"✅ Created requirements.txt at: {path}\")"
   ]
  },
  {
   "cell_type": "markdown",
   "id": "e380c605-eec7-4ec0-934c-1729b3a5f0f8",
   "metadata": {},
   "source": [
    "# README.MD"
   ]
  },
  {
   "cell_type": "code",
   "execution_count": 198,
   "id": "430f1e44-9457-49e9-af5a-9adcef78c1e6",
   "metadata": {},
   "outputs": [
    {
     "name": "stdout",
     "output_type": "stream",
     "text": [
      "✅ README.md created successfully at: C:\\Users\\Gouthum\\Downloads\\DE\\README.md\n"
     ]
    }
   ],
   "source": [
    "readme_content = \"\"\"\n",
    "# SLA Monitoring System\n",
    "\n",
    "A Python-based SLA Monitoring system that checks service metrics, detects SLA violations, sends email alerts, logs violations, and displays a real-time dashboard with Streamlit.\n",
    "\n",
    "---\n",
    "\n",
    "## 📌 Features\n",
    "\n",
    "- SLA rule enforcement (Failure rate, Avg. response time, Response violation rate)\n",
    "- Real-time SLA check via Jupyter or scheduled job\n",
    "- Email alerts when violations are detected\n",
    "- Streamlit dashboard with tables and charts\n",
    "- SQLite simulation of cloud DB storage\n",
    "- Customizable input/output paths and thresholds\n",
    "- Modular structure using utility functions\n",
    "\n",
    "---\n",
    "\n",
    "## 🗂 Folder Structure\n",
    "\n",
    "SLA-Monitoring-System/\n",
    "│\n",
    "├── sla_monitor.py # SLA checking logic\n",
    "├── monitor_sla.py # Scheduler/automation\n",
    "├── send_email.py # Email alert functionality\n",
    "├── sla_dashboard.py # Streamlit dashboard UI\n",
    "├── requirements.txt # Required Python packages\n",
    "├── README.md # This project description file\n",
    "│\n",
    "├── data/\n",
    "│ └── sample_sla_data.csv # Input service metrics\n",
    "│\n",
    "├── utils/\n",
    "│ └── upload_to_cloud.py # Cloud simulation (optional)\n",
    "│\n",
    "├── sla_violations_report.csv # Auto-generated violation report\n",
    "├── sla_violations.db # SQLite DB to simulate cloud\n",
    "\n",
    "\n",
    "---\n",
    "\n",
    "## ⚙️ How It Works\n",
    "\n",
    "### 1. Check for SLA Violations\n",
    "\n",
    "```python\n",
    "from sla_monitor import run_sla_check\n",
    "run_sla_check()\n",
    "\n",
    "2. Simulate Cloud DB Upload (Optional)\n",
    "from utils.upload_to_cloud import upload_to_cloud\n",
    "upload_to_cloud(\"sla_violations_report.csv\")\n",
    "\n",
    "3. Send Email Alert (Automatically triggered)\n",
    "from send_email import send_email_alert\n",
    "send_email_alert(violation_df)\n",
    "\n",
    "🔁 Scheduled Monitoring\n",
    "We can automate the check using the monitor_sla.py script:\n",
    "\n",
    "python monitor_sla.py\n",
    "\n",
    "\n",
    "This will run run_sla_check() every 60 seconds using schedule.\n",
    "\n",
    "📊 Real-Time Dashboard (Streamlit)\n",
    "Launch the interactive dashboard:\n",
    "streamlit run sla_dashboard.py\n",
    "\n",
    "\n",
    "Features:\n",
    "\n",
    "View violations in table format\n",
    "\n",
    "Filters by service name and violation type\n",
    "\n",
    "Auto-refresh and visual insights (bar, pie charts)\n",
    "\n",
    "\n",
    "\n",
    "✉️ Email Alerts\n",
    "When violations are detected, an email alert is triggered automatically:\n",
    "\n",
    "send_email.py:\n",
    "\n",
    "\n",
    "sender_email = \"your_email@gmail.com\"\n",
    "receiver_email = \"receiver_email@gmail.com\"\n",
    "app_password = \"your_app_password\"\n",
    "\n",
    "\n",
    "Use Gmail App Password if 2FA is enabled.\n",
    "\n",
    "☁️ Simulated Cloud Storage\n",
    "To simulate uploading violation data to a cloud DB:\n",
    "\n",
    "from utils.upload_to_cloud import upload_to_cloud\n",
    "upload_to_cloud(\"sla_violations_report.csv\")\n",
    "\n",
    "\n",
    "Also stores violations into local SQLite DB:\n",
    "\n",
    "conn = sqlite3.connect(\"sla_violations.db\")\n",
    "\n",
    "\n",
    "🧪 Sample Output\n",
    "Here is an example of a violation report:\n",
    "\n",
    "service_name\tfailure_rate\tavg_response_time_ms\tresponse_violation_rate\n",
    "Service A\t      0.09\t                1600\t                    0.02\n",
    "Service C\t      0.15\t                1400\t                    0.06\n",
    "\n",
    "\n",
    "✅ Installation\n",
    "Install all dependencies:\n",
    "\n",
    "\n",
    "pip install -r requirements.txt\n",
    "\n",
    "\n",
    "💡 Future Enhancements\n",
    "I will Add real cloud upload via AWS S3 / Google Drive\n",
    "\n",
    "I will Add Slack/Discord alerts\n",
    "\n",
    "Store historical trends and plot time-series graphs\n",
    "\n",
    "I will Add authentication to dashboard\n",
    "\n",
    "I will Deploy to cloud (Azure, AWS, etc.)\n",
    "\n",
    "👨‍💻 Author\n",
    "Built by Gouthum Kharvi\n",
    "Email: gouthumkharvi1899@gmail.com\n",
    "\"\"\"\n",
    "\n",
    "\n",
    "readme_path = r\"C:\\Users\\Gouthum\\Downloads\\DE\\README.md\"\n",
    "\n",
    "with open(readme_path, \"w\", encoding=\"utf-8\") as f:\n",
    "    f.write(readme_content)\n",
    "\n",
    "print(f\"✅ README.md created successfully at: {readme_path}\")\n",
    "\n",
    "\n",
    "\n",
    "\n",
    "\n",
    "\n",
    "\n",
    "\n",
    "\n",
    "\n",
    "\n",
    "\n",
    "\n",
    "\n",
    "\n",
    "\n",
    "\n",
    "\n",
    "\n",
    "\n",
    "\n",
    "\n",
    "\n",
    "\n"
   ]
  },
  {
   "cell_type": "code",
   "execution_count": null,
   "id": "082fcc0a-ff78-49b9-971e-4292e78ede0d",
   "metadata": {},
   "outputs": [],
   "source": []
  }
 ],
 "metadata": {
  "kernelspec": {
   "display_name": "Python [conda env:base] *",
   "language": "python",
   "name": "conda-base-py"
  },
  "language_info": {
   "codemirror_mode": {
    "name": "ipython",
    "version": 3
   },
   "file_extension": ".py",
   "mimetype": "text/x-python",
   "name": "python",
   "nbconvert_exporter": "python",
   "pygments_lexer": "ipython3",
   "version": "3.12.7"
  }
 },
 "nbformat": 4,
 "nbformat_minor": 5
}
